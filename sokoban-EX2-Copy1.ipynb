{
 "cells": [
  {
   "cell_type": "markdown",
   "metadata": {
    "id": "4T3qcykHFi15"
   },
   "source": [
    "# Installs"
   ]
  },
  {
   "cell_type": "code",
   "execution_count": 1,
   "metadata": {
    "ExecuteTime": {
     "end_time": "2023-08-08T13:06:32.848255Z",
     "start_time": "2023-08-08T13:06:32.832211200Z"
    },
    "collapsed": false,
    "jupyter": {
     "outputs_hidden": false
    }
   },
   "outputs": [
    {
     "data": {
      "text/plain": [
       "'/raid/envs/bin'"
      ]
     },
     "execution_count": 1,
     "metadata": {},
     "output_type": "execute_result"
    }
   ],
   "source": [
    "import os,sys\n",
    "\n",
    "os.path.dirname(sys.executable)"
   ]
  },
  {
   "cell_type": "code",
   "execution_count": 2,
   "metadata": {
    "ExecuteTime": {
     "end_time": "2023-08-08T13:06:40.459416Z",
     "start_time": "2023-08-08T13:06:40.436902300Z"
    },
    "id": "xKrQ3eRuJcVP"
   },
   "outputs": [],
   "source": [
    "#@markdown Enter the DAGsHub repository owner name:\n",
    "DAGSHUB_REPO_OWNER= \"aviv.ples\" #@param {type:\"string\"}\n",
    "\n",
    "#@markdown Enter the DAGsHub repository name:\n",
    "DAGSHUB_REPO_NAME= \"sokoban-rl\" #@param {type:\"string\"}\n",
    "\n",
    "#@markdown Enter the username of your DAGsHub account:\n",
    "DAGSHUB_USER_NAME = \"aviv.ples\" #@param {type:\"string\"}\n",
    "\n",
    "DAGSHUB_TOKEN = \"eb1587fdb4b2ef917e728f506d8bc187a67d1c93\""
   ]
  },
  {
   "cell_type": "code",
   "execution_count": 3,
   "metadata": {
    "ExecuteTime": {
     "end_time": "2023-08-08T13:06:49.455158Z",
     "start_time": "2023-08-08T13:06:49.377821400Z"
    },
    "id": "2dah0RrY9Kmj"
   },
   "outputs": [],
   "source": [
    "# %%capture\n",
    "# !apt-get update\n",
    "# !apt-get install -y xvfb ffmpeg freeglut3-dev\n",
    "# !pip install 'imageio==2.4.0'\n",
    "# !pip install gym==0.22\n",
    "# !pip install pygame\n",
    "# !apt-get install python-opengl -y\n",
    "# !pip install pyvirtualdisplay\n",
    "# !pip install piglet\n",
    "# !pip install gym_sokoban\n",
    "# !git clone https://github.com/avivg7/sokoban-so.git\n",
    "# !unzip /content/sokoban-so/Compress.zip\n",
    "\n",
    "# !pip install mlflow==2.5.0 dagshub"
   ]
  },
  {
   "cell_type": "markdown",
   "metadata": {
    "id": "yHbKbI7BwIwv"
   },
   "source": [
    "# Imports"
   ]
  },
  {
   "cell_type": "code",
   "execution_count": 4,
   "metadata": {
    "ExecuteTime": {
     "end_time": "2023-08-08T13:06:55.575894700Z",
     "start_time": "2023-08-08T13:06:54.004970200Z"
    },
    "id": "1cNdWkV49OqN"
   },
   "outputs": [
    {
     "name": "stderr",
     "output_type": "stream",
     "text": [
      "\n"
     ]
    }
   ],
   "source": [
    "import numpy as np\n",
    "import gym\n",
    "from gym import logger as gymlogger\n",
    "from gym.utils import seeding\n",
    "from gym import error, spaces, utils\n",
    "gymlogger.set_level(40) # error only\n",
    "from soko_pap import *\n",
    "import glob\n",
    "import io\n",
    "import base64\n",
    "import os\n",
    "import random\n",
    "import matplotlib.pyplot as plt\n",
    "%matplotlib inline\n",
    "import math\n",
    "import glob\n",
    "from pyvirtualdisplay import Display\n",
    "from IPython.display import HTML\n",
    "from IPython import display as ipythondisplay\n",
    "import pygame\n",
    "import pyvirtualdisplay\n",
    "import imageio\n",
    "import IPython\n",
    "import time\n",
    "\n",
    "import copy\n",
    "\n",
    "import torch\n",
    "import torch.nn as nn\n",
    "import torch.optim as optim\n",
    "import torch.nn.functional as F\n",
    "from collections import namedtuple, deque\n",
    "import pickle\n",
    "import imageio\n",
    "from base64 import b64encode\n",
    "\n",
    "import cv2\n",
    "from IPython.display import clear_output"
   ]
  },
  {
   "cell_type": "code",
   "execution_count": 5,
   "metadata": {
    "ExecuteTime": {
     "end_time": "2023-08-08T13:06:55.602890500Z",
     "start_time": "2023-08-08T13:06:55.560885300Z"
    },
    "colab": {
     "base_uri": "https://localhost:8080/"
    },
    "id": "8pzFCmRN5Z8p",
    "outputId": "108d928a-ca92-4153-d0bc-c948d9452d25"
   },
   "outputs": [
    {
     "data": {
      "application/javascript": [
       "IPython.notebook.set_autosave_interval(5000)"
      ]
     },
     "metadata": {},
     "output_type": "display_data"
    },
    {
     "name": "stdout",
     "output_type": "stream",
     "text": [
      "Autosaving every 5 seconds\n"
     ]
    }
   ],
   "source": [
    "import warnings\n",
    "warnings.filterwarnings(\"ignore\")\n",
    "%autosave 5"
   ]
  },
  {
   "cell_type": "markdown",
   "metadata": {
    "id": "J7bJeRHbwMIj"
   },
   "source": [
    "# Display utils\n",
    "The cell below contains the video display configuration. No need to make changes here."
   ]
  },
  {
   "cell_type": "code",
   "execution_count": 6,
   "metadata": {
    "ExecuteTime": {
     "end_time": "2023-08-08T13:06:56.449187400Z",
     "start_time": "2023-08-08T13:06:56.411119200Z"
    },
    "id": "z41WGwQt9i7_"
   },
   "outputs": [],
   "source": [
    "# def embed_mp4(filename):\n",
    "#   \"\"\"Embeds an mp4 file in the notebook.\"\"\"\n",
    "#   video = open(filename,'rb').read()\n",
    "#   b64 = base64.b64encode(video)\n",
    "#   tag = '''\n",
    "#   <video width=\"640\" height=\"480\" controls>\n",
    "#     <source src=\"data:video/mp4;base64,{0}\" type=\"video/mp4\">\n",
    "#   Your browser does not support the video tag.\n",
    "#   </video>'''.format(b64.decode())\n",
    "\n",
    "#   return IPython.display.HTML(tag)\n",
    "# display = pyvirtualdisplay.Display(visible=0, size=(1400, 900)).start()"
   ]
  },
  {
   "cell_type": "markdown",
   "metadata": {
    "id": "oyJXH2IO72xF"
   },
   "source": [
    "Function - given an environment it will print us the details about observation, actions, agent's position and boxes locations"
   ]
  },
  {
   "cell_type": "code",
   "execution_count": 7,
   "metadata": {
    "ExecuteTime": {
     "end_time": "2023-08-08T13:07:02.585349900Z",
     "start_time": "2023-08-08T13:07:02.546335800Z"
    },
    "id": "1UwaHk7t7eIj"
   },
   "outputs": [],
   "source": [
    "def print_env_det(env):\n",
    "  print(f'Observation space: {env.observation_space}'\n",
    "      f'\\nAction space: {env.action_space}'\n",
    "      f'\\nPlayer position:{env.player_position}'\n",
    "      f'\\nBox location: {find_box_location(env)}')"
   ]
  },
  {
   "cell_type": "markdown",
   "metadata": {
    "id": "10ndmX86l4LJ"
   },
   "source": [
    "Function - given an environment it will return the indexes position and boxes locations"
   ]
  },
  {
   "cell_type": "code",
   "execution_count": 8,
   "metadata": {
    "ExecuteTime": {
     "end_time": "2023-08-08T13:07:03.967607300Z",
     "start_time": "2023-08-08T13:07:03.949100600Z"
    },
    "id": "1bfAeHJmlufr"
   },
   "outputs": [],
   "source": [
    "def find_box_location(env):\n",
    "    idx = np.argmax(env.room_state == 4)\n",
    "    if env.room_state.flat[idx] == 4:\n",
    "        return np.unravel_index(idx, env.room_state.shape)\n",
    "    return None"
   ]
  },
  {
   "cell_type": "code",
   "execution_count": 9,
   "metadata": {
    "ExecuteTime": {
     "end_time": "2023-08-08T13:07:05.363399100Z",
     "start_time": "2023-08-08T13:07:04.700062900Z"
    },
    "id": "_CTNtuVoKfrh"
   },
   "outputs": [
    {
     "name": "stdout",
     "output_type": "stream",
     "text": [
      "https://dagshub.com/aviv.ples/sokoban-rl.mlflow\n"
     ]
    }
   ],
   "source": [
    "# MLFLOW\n",
    "\n",
    "import mlflow\n",
    "import os\n",
    "\n",
    "os.environ['MLFLOW_TRACKING_USERNAME'] = DAGSHUB_USER_NAME\n",
    "os.environ['MLFLOW_TRACKING_PASSWORD'] = DAGSHUB_TOKEN\n",
    "os.environ['MLFLOW_TRACKING_URI'] = f'https://dagshub.com/{DAGSHUB_REPO_OWNER}/{DAGSHUB_REPO_NAME}.mlflow'\n",
    "\n",
    "print(os.getenv('MLFLOW_TRACKING_URI'))"
   ]
  },
  {
   "cell_type": "markdown",
   "metadata": {
    "id": "__K3hWM6VqtR"
   },
   "source": [
    "# Functions"
   ]
  },
  {
   "cell_type": "markdown",
   "metadata": {
    "id": "9525rZ_3JE58"
   },
   "source": [
    "## Pre-processing"
   ]
  },
  {
   "cell_type": "markdown",
   "metadata": {
    "id": "lHnZ_6yUJFLY"
   },
   "source": [
    "Set the PyTorch device to either \"cuda\" if GPU is available, or CPU otherwise. If you GPU is available, using it can significantly speed up the computations required for training deep neural networks."
   ]
  },
  {
   "cell_type": "code",
   "execution_count": 10,
   "metadata": {
    "ExecuteTime": {
     "end_time": "2023-08-08T13:07:15.744021Z",
     "start_time": "2023-08-08T13:07:15.741010Z"
    },
    "id": "8WNfosK3CqBz"
   },
   "outputs": [],
   "source": [
    "device = torch.device(\"cuda:15\" if torch.cuda.is_available() else \"cpu\")"
   ]
  },
  {
   "cell_type": "markdown",
   "metadata": {
    "id": "JfpE-twdJV0x"
   },
   "source": [
    "The replay memory buffer is used to store the experiences of an agent while it runs within the env. We will use the buffer sampling transitions from the it and using them to update the network's parameters during the training."
   ]
  },
  {
   "cell_type": "code",
   "execution_count": 11,
   "metadata": {},
   "outputs": [],
   "source": [
    "class SumTree:\n",
    "    def __init__(self, capacity):\n",
    "        self.capacity = capacity\n",
    "        self.tree = np.zeros(2 * capacity - 1)\n",
    "        self.data = np.zeros(capacity, dtype=object)\n",
    "        self.write = 0\n",
    "\n",
    "    def _propagate(self, idx, change):\n",
    "        parent = (idx - 1) // 2\n",
    "        self.tree[parent] += change\n",
    "        if parent != 0:\n",
    "            self._propagate(parent, change)\n",
    "\n",
    "    def _retrieve(self, idx, s):\n",
    "        left = 2 * idx + 1\n",
    "        right = left + 1\n",
    "        if left >= len(self.tree):\n",
    "            return idx\n",
    "        if s <= self.tree[left]:\n",
    "            return self._retrieve(left, s)\n",
    "        else:\n",
    "            return self._retrieve(right, s - self.tree[left])\n",
    "\n",
    "    def total_priority(self):\n",
    "        return self.tree[0]\n",
    "\n",
    "    def add(self, priority, data):\n",
    "        idx = self.write + self.capacity - 1\n",
    "        self.data[self.write] = data\n",
    "        self.update(idx, priority)\n",
    "        self.write = (self.write + 1) % self.capacity\n",
    "\n",
    "    def update(self, idx, priority):\n",
    "        change = priority - self.tree[idx]\n",
    "        self.tree[idx] = priority\n",
    "        self._propagate(idx, change)\n",
    "\n",
    "    def get(self, s):\n",
    "        idx = self._retrieve(0, s)\n",
    "        dataIdx = idx - self.capacity + 1\n",
    "        return (idx, self.tree[idx], self.data[dataIdx])\n"
   ]
  },
  {
   "cell_type": "code",
   "execution_count": 12,
   "metadata": {
    "ExecuteTime": {
     "end_time": "2023-08-08T13:07:33.278185700Z",
     "start_time": "2023-08-08T13:07:33.226313500Z"
    },
    "id": "FX_z0W7WGMc-"
   },
   "outputs": [],
   "source": [
    "Transition = namedtuple('Transition',\n",
    "                        ('state', 'action', 'next_state', 'reward'))\n",
    "\n",
    "\n",
    "# class ReplayMemory(object):\n",
    "\n",
    "#     def __init__(self, capacity):\n",
    "#         self.memory = deque([], maxlen=capacity)\n",
    "\n",
    "#     def push(self, *args):\n",
    "#         \"\"\"Save a transition\"\"\"\n",
    "#         self.memory.append(Transition(*args))\n",
    "\n",
    "#     def sample(self, batch_size):\n",
    "#         return random.sample(self.memory, batch_size)\n",
    "\n",
    "#     def __len__(self):\n",
    "#         return len(self.memory)\n",
    "\n",
    "# class ReplayMemory:\n",
    "#     def __init__(self, capacity, alpha=0.6, beta=0.4):\n",
    "#         self.alpha = alpha\n",
    "#         self.beta = beta\n",
    "#         self.tree = SumTree(capacity)\n",
    "#         self.capacity = capacity\n",
    "#         self.e = 0.01\n",
    "#         self.a = 0.6\n",
    "\n",
    "#     def push(self, *args):\n",
    "#         max_priority = np.max(self.tree.tree[-self.tree.capacity:])\n",
    "#         if max_priority == 0:\n",
    "#             max_priority = 1\n",
    "#         self.tree.add(max_priority, Transition(*args))\n",
    "\n",
    "#     def sample(self, batch_size):\n",
    "#         batch = []\n",
    "#         idxs = []\n",
    "#         segment = self.tree.total_priority() / batch_size\n",
    "#         priorities = []\n",
    "\n",
    "#         for i in range(batch_size):\n",
    "#             a = segment * i\n",
    "#             b = segment * (i + 1)\n",
    "#             value = np.random.uniform(a, b)\n",
    "#             index, priority, data = self.tree.get(value)\n",
    "#             priorities.append(priority)\n",
    "#             batch.append(data)\n",
    "#             idxs.append(index)\n",
    "\n",
    "#         sampling_probabilities = priorities / self.tree.total_priority()\n",
    "#         is_weight = np.power(self.tree.capacity * sampling_probabilities, -self.beta)\n",
    "#         is_weight /= is_weight.max()\n",
    "\n",
    "#         return batch, idxs, is_weight\n",
    "\n",
    "#     def update(self, idxs, errors):\n",
    "#         priorities = errors + self.e\n",
    "#         priorities = np.power(priorities, self.a)\n",
    "#         for idx, priority in zip(idxs, priorities):\n",
    "#             self.tree.update(idx, priority)\n",
    "\n",
    "#     def __len__(self):\n",
    "#         return self.tree.write\n",
    "\n",
    "# class ReplayMemory:\n",
    "#     def __init__(self, capacity, frame_history_len=4, alpha=0.6, beta=0.4):\n",
    "#         self.alpha = alpha\n",
    "#         self.beta = beta\n",
    "#         self.tree = SumTree(capacity)\n",
    "#         self.capacity = capacity\n",
    "#         self.e = 0.01\n",
    "#         self.a = 0.6\n",
    "#         self.frame_history_len = frame_history_len\n",
    "#         self.obs = None\n",
    "#         self.action = None\n",
    "#         self.reward = None\n",
    "#         self.done = None\n",
    "#         self.next_idx = 0\n",
    "#         self.num_in_buffer = 0\n",
    "\n",
    "#     def push(self, state, action, next_state, reward):\n",
    "#         max_priority = np.max(self.tree.tree[-self.tree.capacity:])\n",
    "#         if max_priority == 0:\n",
    "#             max_priority = 1\n",
    "#         frame_idx = self.store_frame(state)\n",
    "#         self.store_effect(frame_idx, action, reward, False)\n",
    "#         self.tree.add(max_priority, Transition(state, action, next_state, reward))\n",
    "class ReplayMemory:\n",
    "    def __init__(self, capacity, frame_history_len=4, alpha=0.6, beta=0.4):\n",
    "        self.alpha = alpha\n",
    "        self.beta = beta\n",
    "        self.tree = SumTree(capacity)\n",
    "        self.capacity = capacity\n",
    "        self.e = 0.01\n",
    "        self.a = 0.6\n",
    "        self.frame_history_len = frame_history_len\n",
    "        self.obs = None\n",
    "        self.action = None\n",
    "        self.reward = None\n",
    "        self.done = None\n",
    "        self.next_idx = 0\n",
    "        self.num_in_buffer = 0\n",
    "\n",
    "    def push(self, state, action, next_state, reward):\n",
    "        max_priority = np.max(self.tree.tree[-self.tree.capacity:])\n",
    "        if max_priority == 0:\n",
    "            max_priority = 1\n",
    "        frame_idx = self.store_frame(state)\n",
    "        self.store_effect(frame_idx, action, reward, False)\n",
    "        self.tree.add(max_priority, Transition(state, action, next_state, reward))\n",
    "\n",
    "\n",
    "    # def sample(self, batch_size):\n",
    "    #     batch = []\n",
    "    #     idxs = []\n",
    "    #     segment = self.tree.total_priority() / batch_size\n",
    "    #     priorities = []\n",
    "\n",
    "    #     for i in range(batch_size):\n",
    "    #         a = segment * i\n",
    "    #         b = segment * (i + 1)\n",
    "    #         value = np.random.uniform(a, b)\n",
    "    #         index, priority, data = self.tree.get(value)\n",
    "    #         priorities.append(priority)\n",
    "    #         batch.append(data)\n",
    "    #         idxs.append(index)\n",
    "\n",
    "    #     sampling_probabilities = priorities / self.tree.total_priority()\n",
    "    #     is_weight = np.power(self.tree.capacity * sampling_probabilities, -self.beta)\n",
    "    #     is_weight /= is_weight.max()\n",
    "\n",
    "    #     return batch, idxs, is_weight\n",
    "\n",
    "    def sample(self, batch_size):\n",
    "        batch_transitions, idxs, is_weight = [], [], []\n",
    "        segment = self.tree.total_priority() / batch_size\n",
    "        priorities = []\n",
    "    \n",
    "        for i in range(batch_size):\n",
    "            a = segment * i\n",
    "            b = segment * (i + 1)\n",
    "            value = np.random.uniform(a, b)\n",
    "            index, priority, data = self.tree.get(value)\n",
    "            priorities.append(priority)\n",
    "            batch_transitions.append(data)\n",
    "            idxs.append(index)\n",
    "    \n",
    "        # Extract the states and create a batch\n",
    "        states = [torch.tensor(transition.state, dtype=torch.float32, device=device) for transition in batch_transitions]\n",
    "        state_batch = torch.stack(states, dim=0)\n",
    "    \n",
    "        # Create the final batch using the state batch\n",
    "        batch = Transition(state_batch, *zip(*[(transition.action, transition.next_state, transition.reward) for transition in batch_transitions]))\n",
    "    \n",
    "        sampling_probabilities = priorities / self.tree.total_priority()\n",
    "        is_weight = np.power(self.tree.capacity * sampling_probabilities, -self.beta)\n",
    "        is_weight /= is_weight.max()\n",
    "    \n",
    "        return batch, idxs, is_weight\n",
    "\n",
    "\n",
    "    def update(self, idxs, errors):\n",
    "        priorities = errors + self.e\n",
    "        priorities = np.power(priorities, self.a)\n",
    "        for idx, priority in zip(idxs, priorities):\n",
    "            self.tree.update(idx, priority)\n",
    "\n",
    "    def store_frame(self, frame):\n",
    "        if self.obs is None:\n",
    "            self.obs = np.empty([self.capacity] + list(frame.shape), dtype=np.uint8)\n",
    "            self.action = np.empty([self.capacity], dtype=np.int32)\n",
    "            self.reward = np.empty([self.capacity], dtype=np.float32)\n",
    "            self.done = np.empty([self.capacity], dtype=np.bool)\n",
    "\n",
    "        # Convert the frame to a NumPy array on the CPU if it's a PyTorch tensor\n",
    "        if isinstance(frame, torch.Tensor):\n",
    "            frame = frame.cpu().numpy()\n",
    "        \n",
    "        self.obs[self.next_idx] = frame\n",
    "        ret = self.next_idx\n",
    "        self.next_idx = (self.next_idx + 1) % self.capacity\n",
    "        self.num_in_buffer = min(self.capacity, self.num_in_buffer + 1)\n",
    "        return ret\n",
    "\n",
    "    def store_effect(self, idx, action, reward, done):\n",
    "        self.action[idx] = action\n",
    "        self.reward[idx] = reward\n",
    "        self.done[idx] = done\n",
    "\n",
    "    def __len__(self):\n",
    "        return self.tree.write\n"
   ]
  },
  {
   "cell_type": "markdown",
   "metadata": {
    "id": "Di76CcSUJb8d"
   },
   "source": [
    "DQN is a convolutional neural network model. The CNN extracts features from the input state, and then passes the feature vector through a fully connected network to produce a Q-value for each possible action."
   ]
  },
  {
   "cell_type": "code",
   "execution_count": 13,
   "metadata": {
    "ExecuteTime": {
     "end_time": "2023-08-08T13:07:34.095194700Z",
     "start_time": "2023-08-08T13:07:34.068046800Z"
    },
    "id": "R1yPvY9_GMfQ"
   },
   "outputs": [],
   "source": [
    "class DQN(nn.Module):\n",
    "    \"\"\"\n",
    "    Convolutional Neural Net with 3 conv layers and two linear layers\n",
    "    \"\"\"\n",
    "    def __init__(self, input_shape, n_actions):\n",
    "        super(DQN, self).__init__()\n",
    "        self.conv = nn.Sequential(\n",
    "            nn.Conv2d(input_shape[0], 32, kernel_size=8, stride=4),\n",
    "            nn.ReLU(),\n",
    "            nn.Conv2d(32, 64, kernel_size=4, stride=2),\n",
    "            nn.ReLU(),\n",
    "            nn.Conv2d(64, 64, kernel_size=3, stride=1),\n",
    "            nn.ReLU()\n",
    "        )\n",
    "\n",
    "        conv_out_size = self._get_conv_out(input_shape)\n",
    "        self.fc = nn.Sequential(\n",
    "            nn.Linear(conv_out_size, 512),\n",
    "            nn.ReLU(),\n",
    "            nn.Linear(512, n_actions)\n",
    "        )\n",
    "\n",
    "    def _get_conv_out(self, shape):\n",
    "        o = self.conv(torch.zeros(1, *shape))\n",
    "        return int(np.prod(o.size()))\n",
    "\n",
    "    def forward(self, x):\n",
    "        conv_out = self.conv(x).view(x.size()[0], -1)\n",
    "        return self.fc(conv_out)"
   ]
  },
  {
   "cell_type": "code",
   "execution_count": 14,
   "metadata": {},
   "outputs": [],
   "source": [
    "class NoImageDQN(nn.Module):\n",
    "    def __init__(self, state_shape, n_actions):\n",
    "        super(NoImageDQN, self).__init__()\n",
    "        input_channels, env_dim, _ = state_shape\n",
    "\n",
    "        self.conv = nn.Sequential(\n",
    "            nn.Conv2d(input_channels, 16, kernel_size=3, stride=1),\n",
    "            nn.ReLU(),\n",
    "            nn.Conv2d(16, 32, kernel_size=3, stride=1),\n",
    "            nn.ReLU(),\n",
    "            nn.Conv2d(32, 32, kernel_size=3, stride=1),\n",
    "            nn.ReLU()\n",
    "        )\n",
    "        \n",
    "        # Compute the size of the flattened output after the convolutional layers\n",
    "        conv_out_size = (env_dim - 2*3) # Subtract 2 for each conv layer with kernel_size=3, stride=1\n",
    "        self.fc = nn.Sequential(\n",
    "            nn.Linear(32 * conv_out_size * conv_out_size, 256),\n",
    "            nn.ReLU(),\n",
    "            nn.Linear(256, n_actions)\n",
    "        )\n",
    "\n",
    "    def forward(self, x):\n",
    "        conv_out = self.conv(x).view(x.size()[0], -1)\n",
    "        return self.fc(conv_out)\n"
   ]
  },
  {
   "cell_type": "code",
   "execution_count": 15,
   "metadata": {},
   "outputs": [],
   "source": [
    "class DuelingDQN(nn.Module):\n",
    "    def __init__(self, input_shape, n_actions):\n",
    "        super(DuelingDQN, self).__init__()\n",
    "        self.conv = nn.Sequential(\n",
    "            nn.Conv2d(input_shape[0], 32, kernel_size=8, stride=4),\n",
    "            nn.ReLU(),\n",
    "            nn.Conv2d(32, 64, kernel_size=4, stride=2),\n",
    "            nn.ReLU(),\n",
    "            nn.Conv2d(64, 64, kernel_size=3, stride=1),\n",
    "            nn.ReLU()\n",
    "        )\n",
    "\n",
    "        conv_out_size = self._get_conv_out(input_shape)\n",
    "\n",
    "        # Value stream\n",
    "        self.value_stream = nn.Sequential(\n",
    "            nn.Linear(conv_out_size, 256),\n",
    "            nn.ReLU(),\n",
    "            nn.Linear(256, 1)\n",
    "        )\n",
    "\n",
    "        # Advantage stream\n",
    "        self.advantage_stream = nn.Sequential(\n",
    "            nn.Linear(conv_out_size, 256),\n",
    "            nn.ReLU(),\n",
    "            nn.Linear(256, n_actions)\n",
    "        )\n",
    "\n",
    "    def _get_conv_out(self, shape):\n",
    "        o = self.conv(torch.zeros(1, *shape))\n",
    "        return int(np.prod(o.size()))\n",
    "\n",
    "    def forward(self, x):\n",
    "        conv_out = self.conv(x).view(x.size()[0], -1)\n",
    "        value = self.value_stream(conv_out)\n",
    "        advantage = self.advantage_stream(conv_out)\n",
    "        q_values = value + (advantage - advantage.mean(dim=1, keepdim=True))\n",
    "        return q_values"
   ]
  },
  {
   "cell_type": "markdown",
   "metadata": {
    "id": "EN_rQIyiJhqG"
   },
   "source": [
    "Rescales each frame to size 112x112 with grayscale. The resulting observation is a NumPy array with shape (112, 112, 1)."
   ]
  },
  {
   "cell_type": "code",
   "execution_count": 16,
   "metadata": {
    "ExecuteTime": {
     "end_time": "2023-08-08T13:07:34.761374300Z",
     "start_time": "2023-08-08T13:07:34.730376100Z"
    },
    "id": "HbmxIR5DGLVP"
   },
   "outputs": [],
   "source": [
    "# class Rescale112x112(gym.ObservationWrapper):\n",
    "#     \"\"\"\n",
    "#     Downsamples/Rescales each frame to size 112x112 with greyscale\n",
    "#     \"\"\"\n",
    "#     def __init__(self, env=None):\n",
    "#         super(Rescale112x112, self).__init__(env)\n",
    "#         self.observation_space = gym.spaces.Box(low=0, high=255, shape=(112, 112, 1), dtype=np.uint8)\n",
    "\n",
    "#     def observation(self, obs):\n",
    "#         return Rescale112x112.process(obs)\n",
    "\n",
    "#     @staticmethod\n",
    "#     def process(frame):\n",
    "#         if frame.shape == (240, 256, 3):\n",
    "#             img = np.reshape(frame, [240, 256, 3]).astype(np.float32)\n",
    "#             img = img[:, :, 0] * 0.299 + img[:, :, 1] * 0.587 + img[:, :, 2] * 0.114\n",
    "#             resized_screen = cv2.resize(img, (112, 112), interpolation=cv2.INTER_AREA)\n",
    "#             x_t = np.reshape(resized_screen, [112, 112, 1])\n",
    "#         elif frame.shape == (112, 112, 3):\n",
    "#             # image normalization on RBG\n",
    "#             img = frame[:, :, 0] * 0.299 + frame[:, :, 1] * 0.587 + frame[:, :, 2] * 0.114\n",
    "#             x_t = np.reshape(img, [112, 112, 1])\n",
    "#         else:\n",
    "#             assert False, \"Unknown resolution.\"\n",
    "#         return x_t.astype(np.uint8)\n",
    "\n",
    "class Rescale112x112(gym.ObservationWrapper):\n",
    "    \"\"\"\n",
    "    Downsamples/Rescales each frame to size 112x112\n",
    "    \"\"\"\n",
    "    def __init__(self, env=None):\n",
    "        super(Rescale112x112, self).__init__(env)\n",
    "        self.observation_space = gym.spaces.Box(low=0, high=255, shape=(112, 112, 1), dtype=np.uint8)\n",
    "\n",
    "    def observation(self, obs):\n",
    "        return Rescale112x112.process(obs)\n",
    "\n",
    "    @staticmethod\n",
    "    def process(frame):\n",
    "        resized_screen = cv2.resize(frame, (112, 112), interpolation=cv2.INTER_AREA)\n",
    "        gray_screen = cv2.cvtColor(resized_screen, cv2.COLOR_RGB2GRAY)\n",
    "        return np.expand_dims(gray_screen, axis=-1).astype(np.uint8)\n"
   ]
  },
  {
   "cell_type": "markdown",
   "metadata": {
    "id": "K7R-0UDSJlXK"
   },
   "source": [
    "To reduce computation time preserving important visual information in the observations, we repeat each action over skip number of frames and return only every skip-th frame while taking the maximum pixel values across the skipped frames."
   ]
  },
  {
   "cell_type": "code",
   "execution_count": 17,
   "metadata": {
    "ExecuteTime": {
     "end_time": "2023-08-08T13:07:35.489140100Z",
     "start_time": "2023-08-08T13:07:35.462637400Z"
    },
    "id": "uGTFTgPINfK4"
   },
   "outputs": [],
   "source": [
    "class MaxAndSkipEnv(gym.Wrapper):\n",
    "    \"\"\"\n",
    "    Each action of the agent is repeated over skip frames\n",
    "    return only every `skip`-th frame\n",
    "    \"\"\"\n",
    "    def __init__(self, env=None, skip=4):\n",
    "        super().__init__(env)\n",
    "        self._obs_buffer = deque(maxlen=2)\n",
    "        self._skip = skip\n",
    "\n",
    "    def step(self, action):\n",
    "        total_reward = 0.0\n",
    "        done = None\n",
    "        for _ in range(self._skip):\n",
    "            obs, reward, done, info = self.env.step(action)\n",
    "            self._obs_buffer.append(obs)\n",
    "            total_reward += reward\n",
    "            if done:\n",
    "                break\n",
    "        max_frame = np.maximum(self._obs_buffer[0], self._obs_buffer[1])\n",
    "        return max_frame, total_reward, done, info\n",
    "\n",
    "    def reset(self, **kwargs):\n",
    "        self._obs_buffer.clear()\n",
    "        obs = self.env.reset(**kwargs)\n",
    "        self._obs_buffer.append(obs)\n",
    "        return obs\n"
   ]
  },
  {
   "cell_type": "markdown",
   "metadata": {
    "id": "VI4XPaPCJx0x"
   },
   "source": [
    "Convert each observation to a PyTorch tensor"
   ]
  },
  {
   "cell_type": "code",
   "execution_count": 18,
   "metadata": {
    "ExecuteTime": {
     "end_time": "2023-08-08T13:07:36.418244700Z",
     "start_time": "2023-08-08T13:07:36.388210900Z"
    },
    "id": "riSjosKxGADV"
   },
   "outputs": [],
   "source": [
    "class ImageToPyTorch(gym.ObservationWrapper):\n",
    "    \"\"\"\n",
    "    Each frame is converted to PyTorch tensors\n",
    "    \"\"\"\n",
    "    def __init__(self, env):\n",
    "        super(ImageToPyTorch, self).__init__(env)\n",
    "        old_shape = self.observation_space.shape\n",
    "        self.observation_space = gym.spaces.Box(low=0.0, high=1.0, shape=(old_shape[-1], old_shape[0], old_shape[1]), dtype=np.float32)\n",
    "\n",
    "    def observation(self, observation):\n",
    "        return np.moveaxis(observation, 2, 0)\n",
    "\n"
   ]
  },
  {
   "cell_type": "markdown",
   "metadata": {
    "id": "9rp8AoHgJsZZ"
   },
   "source": [
    "Create a buffer of size n_steps that stores every k-th frame of the environment observation."
   ]
  },
  {
   "cell_type": "code",
   "execution_count": 19,
   "metadata": {
    "ExecuteTime": {
     "end_time": "2023-08-08T13:07:37.283841400Z",
     "start_time": "2023-08-08T13:07:37.260947200Z"
    },
    "id": "O1idt7qTJsqQ"
   },
   "outputs": [],
   "source": [
    "# class BufferWrapper(gym.ObservationWrapper):\n",
    "#     \"\"\"\n",
    "#     Only every k-th frame is collected by the buffer\n",
    "#     \"\"\"\n",
    "#     def __init__(self, env, n_steps, dtype=np.float32):\n",
    "#         super(BufferWrapper, self).__init__(env)\n",
    "#         self.dtype = dtype\n",
    "#         old_space = env.observation_space\n",
    "#         self.observation_space = gym.spaces.Box(old_space.low.repeat(n_steps, axis=0),\n",
    "#                                                 old_space.high.repeat(n_steps, axis=0), dtype=dtype)\n",
    "\n",
    "#     def reset(self):\n",
    "#         self.buffer = np.zeros_like(self.observation_space.low, dtype=self.dtype)\n",
    "#         return self.observation(self.env.reset())\n",
    "\n",
    "#     def observation(self, observation):\n",
    "#         self.buffer[:-1] = self.buffer[1:]\n",
    "#         self.buffer[-1] = observation\n",
    "#         return self.buffer\n",
    "\n",
    "class BufferWrapper(gym.ObservationWrapper):\n",
    "    def __init__(self, env, n_steps, dtype=np.float32):\n",
    "        super(BufferWrapper, self).__init__(env)\n",
    "        self.dtype = dtype\n",
    "        old_space = env.observation_space\n",
    "        self.observation_space = gym.spaces.Box(low=np.tile(old_space.low, (n_steps, 1, 1)),\n",
    "                                                high=np.tile(old_space.high, (n_steps, 1, 1)), dtype=dtype)\n",
    "        self.n_steps = n_steps\n",
    "\n",
    "    def reset(self):\n",
    "        self.buffer = np.zeros_like(self.observation_space.low, dtype=self.dtype)\n",
    "        obs = self.env.reset()\n",
    "        self.buffer[-1] = obs\n",
    "        return self.observation(obs)\n",
    "\n",
    "    def observation(self, observation):\n",
    "        self.buffer = np.roll(self.buffer, shift=-1, axis=0)\n",
    "        self.buffer[-1] = observation\n",
    "        return self.buffer\n"
   ]
  },
  {
   "cell_type": "markdown",
   "metadata": {
    "id": "meXXJEynJszq"
   },
   "source": [
    "Normalize pixel values in each observation to be in the range of 0 to 1."
   ]
  },
  {
   "cell_type": "code",
   "execution_count": 20,
   "metadata": {
    "ExecuteTime": {
     "end_time": "2023-08-08T13:07:38.135615200Z",
     "start_time": "2023-08-08T13:07:38.113115600Z"
    },
    "id": "jXgx85d-Js7w"
   },
   "outputs": [],
   "source": [
    "class PixelNormalization(gym.ObservationWrapper):\n",
    "    \"\"\"\n",
    "    Normalize pixel values in frame --> 0 to 1\n",
    "    \"\"\"\n",
    "    def observation(self, obs):\n",
    "        return np.array(obs).astype(np.float32) / 255.0"
   ]
  },
  {
   "cell_type": "markdown",
   "metadata": {
    "id": "wbr9sbbgJ-Mf"
   },
   "source": [
    "Create proper env, post all pre-processing:"
   ]
  },
  {
   "cell_type": "code",
   "execution_count": 21,
   "metadata": {
    "ExecuteTime": {
     "end_time": "2023-08-08T13:07:39.340803800Z",
     "start_time": "2023-08-08T13:07:39.318369700Z"
    },
    "id": "Uar-3tcEPhQa"
   },
   "outputs": [],
   "source": [
    "def create_env(env):\n",
    "    # env = MaxAndSkipEnv(env)\n",
    "    # env = Rescale112x112(env)\n",
    "    # env = ImageToPyTorch(env)\n",
    "    # env = BufferWrapper(env, 4)\n",
    "    # env = PixelNormalization(env)\n",
    "    return env"
   ]
  },
  {
   "cell_type": "markdown",
   "metadata": {
    "id": "NYIu-mGTKDUG"
   },
   "source": [
    "## Helper Functions"
   ]
  },
  {
   "cell_type": "markdown",
   "metadata": {
    "id": "MEJRuqNJPqso",
    "jp-MarkdownHeadingCollapsed": true
   },
   "source": [
    "### Convergence Threshold\n",
    "If the policy is such that in the previous 20 iterations both the rewards sum and the duration averages has stayed appx. the same as the last one, the policy has convereged. In addtion, we demand that the latest reward will be over 5, since in trial and error iterations we have seen that the final reward for the optimal solution is set around 6."
   ]
  },
  {
   "cell_type": "code",
   "execution_count": 22,
   "metadata": {
    "ExecuteTime": {
     "end_time": "2023-08-08T13:07:41.676541Z",
     "start_time": "2023-08-08T13:07:41.635539900Z"
    },
    "id": "umXHCBd3Pn6f"
   },
   "outputs": [],
   "source": [
    "# def check_convergence(i_episode, episode_rewards, episode_durations, n=20, reward_threshold=4):\n",
    "#     \"\"\"\n",
    "#     Check if the policy has converged based on the specified decision rule.\n",
    "\n",
    "#     Args:\n",
    "#     rewards (list[float]): List of rewards for each episode.\n",
    "#     durations (list[int]): List of episode durations (i.e., count of steps needed to complete each episode).\n",
    "\n",
    "#     Returns:\n",
    "#     bool: True if the policy has converged; False otherwise.\n",
    "#     \"\"\"\n",
    "\n",
    "#     # Check if there are at least n episodes to compare.\n",
    "#     if len(episode_rewards) < n + 1:\n",
    "#         return False\n",
    "#     if np.mean(episode_rewards[-n:]) < reward_threshold:\n",
    "#         return False\n",
    "#     print(f\"Policy has converged after {i_episode} episodes! The final episode_rewards sum is {episode_rewards[-1]}, and the final duration is {episode_durations[-1]}\")\n",
    "#     return True\n",
    "def exponential_moving_average(data, alpha=0.1):\n",
    "    ema = [data[0]]\n",
    "    for i in range(1, len(data)):\n",
    "        ema.append(alpha * data[i] + (1 - alpha) * ema[-1])\n",
    "    return ema\n",
    "\n",
    "def check_convergence(i_episode, episode_rewards, episode_durations, n=20, initial_reward_threshold=8, variance_threshold=1.0, duration_threshold=20):\n",
    "    if len(episode_rewards) < n + 1:\n",
    "        return False\n",
    "\n",
    "    # Calculate the exponential moving averages for rewards and durations\n",
    "    ema_rewards = exponential_moving_average(episode_rewards)\n",
    "    ema_durations = exponential_moving_average(episode_durations)\n",
    "\n",
    "    mean_reward = np.mean(ema_rewards[-n:])\n",
    "    reward_variance = np.var(ema_rewards[-n:])\n",
    "    mean_duration = np.mean(ema_durations[-n:])\n",
    "\n",
    "    # Adaptive threshold based on the progress of training\n",
    "    adaptive_reward_threshold = max(initial_reward_threshold - i_episode * 0.01, 4)\n",
    "\n",
    "    if mean_reward < adaptive_reward_threshold or reward_variance > variance_threshold or mean_duration > duration_threshold:\n",
    "        return False\n",
    "\n",
    "    print(f\"Policy has converged after {i_episode} episodes! The final episode_rewards sum is {episode_rewards[-1]}, and the final duration is {episode_durations[-1]}\")\n",
    "    return True\n"
   ]
  },
  {
   "cell_type": "markdown",
   "metadata": {
    "id": "ExNB49rvAHIa"
   },
   "source": [
    "### Optimize Model"
   ]
  },
  {
   "cell_type": "code",
   "execution_count": 23,
   "metadata": {
    "ExecuteTime": {
     "end_time": "2023-08-08T13:07:42.940558300Z",
     "start_time": "2023-08-08T13:07:42.903525700Z"
    },
    "id": "98w3EyIyryHA"
   },
   "outputs": [],
   "source": [
    "# def optimize_model(batch_size, gamma, optimizer, policy_net, target_net, memory):\n",
    "#     if len(memory) < batch_size:\n",
    "#         return\n",
    "#     transitions = memory.sample(batch_size)\n",
    "#     # Transpose the batch (see https://stackoverflow.com/a/19343/3343043 for\n",
    "#     # detailed explanation). This converts batch-array of Transitions\n",
    "#     # to Transition of batch-arrays.\n",
    "#     batch = Transition(*zip(*transitions))\n",
    "#     # Compute a mask of non-final states and concatenate the batch elements\n",
    "#     # (a final state would've been the one after which simulation ended)\n",
    "#     non_final_mask = torch.tensor(tuple(map(lambda s: s is not None,\n",
    "#                                           batch.next_state)), device=device, dtype=torch.bool)\n",
    "#     non_final_next_states = torch.cat([s for s in batch.next_state\n",
    "#                                                 if s is not None])\n",
    "#     state_batch = torch.cat(batch.state)\n",
    "#     action_batch = torch.cat(batch.action)\n",
    "#     reward_batch = torch.cat(batch.reward)\n",
    "\n",
    "#     # Compute Q(s_t, a) - the model computes Q(s_t), then we select the\n",
    "#     # columns of actions taken. These are the actions which would've been taken\n",
    "#     # for each batch state according to policy_net\n",
    "#     state_action_values = policy_net(state_batch).gather(1, action_batch)\n",
    "\n",
    "#     # Compute V(s_{t+1}) for all next states.\n",
    "#     # Expected values of actions for non_final_next_states are computed based\n",
    "#     # on the \"older\" target_net; selecting their best reward with max(1)[0].\n",
    "#     # This is merged based on the mask, such that we'll have either the expected\n",
    "#     # state value or 0 in case the state was final.\n",
    "#     next_state_values = torch.zeros(batch_size, device=device)\n",
    "#     with torch.no_grad():\n",
    "#         next_state_values[non_final_mask] = target_net(non_final_next_states).max(1)[0]\n",
    "#     # Compute the expected Q values\n",
    "#     expected_state_action_values = (next_state_values * gamma) + reward_batch\n",
    "\n",
    "#     # Compute Huber loss\n",
    "#     criterion = nn.SmoothL1Loss()\n",
    "#     loss = criterion(state_action_values, expected_state_action_values.unsqueeze(1))\n",
    "\n",
    "#     # Optimize the model\n",
    "#     optimizer.zero_grad()\n",
    "#     loss.backward()\n",
    "#     # In-place gradient clipping\n",
    "#     torch.nn.utils.clip_grad_value_(policy_net.parameters(), 100)\n",
    "#     optimizer.step()\n",
    "\n",
    "# def optimize_model(batch_size, gamma, optimizer, policy_net, target_net, memory):\n",
    "#     if len(memory) < batch_size:\n",
    "#         return\n",
    "#     transitions, idxs, is_weights = memory.sample(batch_size)\n",
    "#     batch = Transition(*zip(*transitions))\n",
    "#     non_final_mask = torch.tensor(tuple(map(lambda s: s is not None, batch.next_state)), device=device, dtype=torch.bool)\n",
    "#     non_final_next_states = torch.cat([torch.tensor(s, dtype=torch.float32, device=device) for s in batch.next_state if s is not None])\n",
    "#     state_batch = torch.cat([torch.tensor(s, dtype=torch.float32, device=device) for s in batch.state])\n",
    "#     action_batch = torch.cat(batch.action)\n",
    "#     reward_batch = torch.cat(batch.reward)\n",
    "\n",
    "#     state_action_values = policy_net(state_batch).gather(1, action_batch)\n",
    "\n",
    "#     next_state_values = torch.zeros(batch_size, device=device)\n",
    "#     with torch.no_grad():\n",
    "#         next_state_values[non_final_mask] = target_net(non_final_next_states).max(1)[0]\n",
    "#     expected_state_action_values = (next_state_values * gamma) + reward_batch\n",
    "\n",
    "#     # Compute TD error\n",
    "#     td_errors = (expected_state_action_values.unsqueeze(1) - state_action_values).squeeze().detach().cpu().numpy()\n",
    "\n",
    "#     # Update priorities in the memory\n",
    "#     memory.update(idxs, np.abs(td_errors))\n",
    "\n",
    "#     # Compute Huber loss with importance sampling weights\n",
    "#     criterion = nn.SmoothL1Loss(reduction='none')\n",
    "#     loss = criterion(state_action_values, expected_state_action_values.unsqueeze(1))\n",
    "#     loss = (torch.tensor(is_weights, device=device, dtype=torch.float32) * loss).mean()\n",
    "\n",
    "#     optimizer.zero_grad()\n",
    "#     loss.backward()\n",
    "#     torch.nn.utils.clip_grad_value_(policy_net.parameters(), 100)\n",
    "#     optimizer.step()\n",
    "\n",
    "def optimize_model(batch_size, gamma, optimizer, policy_net, target_net, memory):\n",
    "    if len(memory) < batch_size:\n",
    "        return\n",
    "    batch, idxs, is_weights = memory.sample(batch_size)\n",
    "    non_final_mask = torch.tensor(tuple(map(lambda s: s is not None, batch.next_state)), device=device, dtype=torch.bool)\n",
    "    non_final_next_states = torch.stack([torch.tensor(s, device=device, dtype=torch.float32) for s in batch.next_state if s is not None])\n",
    "    state_batch = batch.state\n",
    "    action_batch = torch.cat(batch.action)\n",
    "    reward_batch = torch.cat(batch.reward)\n",
    "\n",
    "    state_action_values = policy_net(state_batch).gather(1, action_batch)\n",
    "\n",
    "    next_state_values = torch.zeros(batch_size, device=device)\n",
    "    with torch.no_grad():\n",
    "        next_state_values[non_final_mask] = target_net(non_final_next_states).max(1)[0]\n",
    "    expected_state_action_values = (next_state_values * gamma) + reward_batch\n",
    "\n",
    "    # Compute TD error\n",
    "    td_errors = (expected_state_action_values.unsqueeze(1) - state_action_values).squeeze().detach().cpu().numpy()\n",
    "\n",
    "    # Update priorities in the memory\n",
    "    memory.update(idxs, np.abs(td_errors))\n",
    "\n",
    "    # Compute Huber loss with importance sampling weights\n",
    "    criterion = nn.SmoothL1Loss(reduction='none')\n",
    "    loss = criterion(state_action_values, expected_state_action_values.unsqueeze(1))\n",
    "    loss = (torch.tensor(is_weights, device=device, dtype=torch.float32) * loss).mean()\n",
    "\n",
    "    optimizer.zero_grad()\n",
    "    loss.backward()\n",
    "    torch.nn.utils.clip_grad_value_(policy_net.parameters(), 100)\n",
    "    optimizer.step()"
   ]
  },
  {
   "cell_type": "markdown",
   "metadata": {
    "id": "sSegxfwDAK6n",
    "jp-MarkdownHeadingCollapsed": true
   },
   "source": [
    "### Plot Results"
   ]
  },
  {
   "cell_type": "code",
   "execution_count": 24,
   "metadata": {
    "ExecuteTime": {
     "end_time": "2023-08-08T13:07:43.805620800Z",
     "start_time": "2023-08-08T13:07:43.750120100Z"
    },
    "id": "ny5iRbjTruzz"
   },
   "outputs": [],
   "source": [
    "def plot_results(res_list, duration_mode=False, add_mean_and_std=False, log=False, run_name=None):\n",
    "    if duration_mode:\n",
    "        y = 'Duration'\n",
    "    else:\n",
    "        y = 'Rewards'\n",
    "    fig = plt.figure(figsize=(20, 12))\n",
    "    ax = fig.add_subplot(111)\n",
    "    ax.set_xlabel('Episode', fontsize=14)\n",
    "    ax.set_ylabel(y, fontsize=14)\n",
    "    ax.tick_params(axis='both', which='major', labelsize=12)\n",
    "    ax.plot(res_list, color='#0072BD', linewidth=2)\n",
    "    ax.grid(linestyle='--', linewidth=0.5, alpha=0.7)\n",
    "\n",
    "    ax.set_title(f'{run_name} {y}', fontsize=16)\n",
    "    \n",
    "    if add_mean_and_std:\n",
    "        # Add mean and standard deviation to the plot\n",
    "        res_mean = np.mean(res_list)\n",
    "        res_std = np.std(res_list)\n",
    "        ax.axhline(res_mean, color='#D95319', linestyle='--', linewidth=2, label='Mean')\n",
    "        ax.fill_between(range(len(res_list)), res_list-res_std, res_list+res_std, color='#EDB120', alpha=0.2, label='Std Dev')\n",
    "        ax.legend(loc='best', fontsize=12)\n",
    "    if log:\n",
    "        # plt.savefig(f'results/{run_name}_{y}.png')\n",
    "        mlflow.log_figure(fig, f\"{run_name}_{y}.png\")\n",
    "    plt.show()\n"
   ]
  },
  {
   "cell_type": "markdown",
   "metadata": {
    "id": "9X5P--YxAPC2"
   },
   "source": [
    "### Select Action"
   ]
  },
  {
   "cell_type": "code",
   "execution_count": 25,
   "metadata": {
    "ExecuteTime": {
     "end_time": "2023-08-08T13:07:44.696655500Z",
     "start_time": "2023-08-08T13:07:44.673629100Z"
    },
    "id": "UY2kk0nMhkkK"
   },
   "outputs": [],
   "source": [
    "def select_action(state, env, policy_net, epsilon = 0.1):\n",
    "    sample = random.random()\n",
    "    if sample > epsilon:\n",
    "        with torch.no_grad():\n",
    "            # state = torch.tensor(state, dtype=torch.float32, device=device)\n",
    "            state = torch.tensor(state, dtype=torch.float32, device=device).unsqueeze(0)\n",
    "            return policy_net(state).max(1)[1].view(1, 1)\n",
    "    else:\n",
    "        return torch.tensor([[env.action_space.sample()]], device=device, dtype=torch.long)\n"
   ]
  },
  {
   "cell_type": "markdown",
   "metadata": {
    "id": "WZ9N1Kv6yv5q",
    "jp-MarkdownHeadingCollapsed": true
   },
   "source": [
    "### Model Utils"
   ]
  },
  {
   "cell_type": "markdown",
   "metadata": {
    "id": "UNTXKJIVzfV3"
   },
   "source": [
    "#### Load Existing Model"
   ]
  },
  {
   "cell_type": "code",
   "execution_count": 26,
   "metadata": {
    "ExecuteTime": {
     "end_time": "2023-08-08T13:07:46.077615100Z",
     "start_time": "2023-08-08T13:07:46.035615100Z"
    },
    "id": "XneFHeawzers"
   },
   "outputs": [],
   "source": [
    "def load_model(model_name, policy_net):\n",
    "    with open(f'models/{model_name}.pkl', 'rb') as f:\n",
    "        state_dict = pickle.load(f)\n",
    "\n",
    "    policy_net.load_state_dict(state_dict)\n",
    "    return policy_net"
   ]
  },
  {
   "cell_type": "markdown",
   "metadata": {
    "id": "Zg87ybVunl3H"
   },
   "source": [
    "#### Save Existing Model"
   ]
  },
  {
   "cell_type": "code",
   "execution_count": 27,
   "metadata": {
    "ExecuteTime": {
     "end_time": "2023-08-08T13:07:46.994334900Z",
     "start_time": "2023-08-08T13:07:46.969833700Z"
    },
    "id": "xXqmu4pYy06f"
   },
   "outputs": [],
   "source": [
    "def save_model(policy_net, model_name):\n",
    "    state_dict = policy_net.state_dict()\n",
    "    file_path = f\"models/{model_name}.pkl\"\n",
    "    with open(file_path, 'wb') as f:\n",
    "        pickle.dump(state_dict, f)\n",
    "        print(\"Saved model!\")\n",
    "\n",
    "    return None"
   ]
  },
  {
   "cell_type": "markdown",
   "metadata": {
    "id": "co4c5xqzFKtR",
    "jp-MarkdownHeadingCollapsed": true
   },
   "source": [
    "### Record Policy"
   ]
  },
  {
   "cell_type": "code",
   "execution_count": 28,
   "metadata": {
    "ExecuteTime": {
     "end_time": "2023-08-08T13:07:50.828308300Z",
     "start_time": "2023-08-08T13:07:50.789798Z"
    },
    "id": "2X2UqYrDFNIQ"
   },
   "outputs": [],
   "source": [
    "import matplotlib.animation as animation\n",
    "\n",
    "def record_policy(env, policy, max_steps=500, filename=''):\n",
    "    state = env.reset()\n",
    "    done = False\n",
    "    steps = 0\n",
    "    fig = plt.figure()\n",
    "    ims = []\n",
    "    while not done and steps < max_steps:\n",
    "        im = env.render()\n",
    "        ims.append([plt.imshow(im)])\n",
    "        action = np.argmax(policy[state]) if state in policy else env.action_space().sample()\n",
    "        next_state, reward, done, _ = env.step(action)\n",
    "        state = next_state\n",
    "        steps += 1\n",
    "    im = env.render()\n",
    "    ims.append([plt.imshow(im)])\n",
    "    ani = animation.ArtistAnimation(fig, ims, interval=50, blit=True, repeat_delay=1000);\n",
    "    ani.save(filename);\n",
    "    return"
   ]
  },
  {
   "cell_type": "markdown",
   "metadata": {
    "id": "8-Vqa4x_Z6Xl"
   },
   "source": [
    "#### Display Video"
   ]
  },
  {
   "cell_type": "code",
   "execution_count": 29,
   "metadata": {
    "ExecuteTime": {
     "end_time": "2023-08-08T13:08:01.835077900Z",
     "start_time": "2023-08-08T13:08:01.812052700Z"
    },
    "id": "E1iWteFxZ9OG"
   },
   "outputs": [],
   "source": [
    "def display_video(path):\n",
    "    # Open the video file\n",
    "    with open(path, 'rb') as f:\n",
    "        video_data = f.read()\n",
    "\n",
    "    # Base64 encode the video data\n",
    "    encoded_video = b64encode(video_data).decode('utf-8')\n",
    "\n",
    "    # Create the HTML string for displaying the video\n",
    "    html = f'<video width=\"480\" height=\"360\" controls><source src=\"data:video/mp4;base64,{encoded_video}\" type=\"video/mp4\"></video>'\n",
    "\n",
    "    # Display the video in the notebook\n",
    "    return HTML(html)\n"
   ]
  },
  {
   "cell_type": "markdown",
   "metadata": {
    "id": "F11M1BDQBRki",
    "jp-MarkdownHeadingCollapsed": true
   },
   "source": [
    "### Reward manipulation\n",
    "To shorten training times on this task, we added the a reward manipulation logic. In each reward caclulation we calculate the previous Manhatten distance between the box location and the target location (before the action), as well and the current distance (after the action). If the distance has decreased, than generally we assume that the action was a positive action, and give it a positive boost. Otherwise, we give it a negative boost. If the action completed the game, we give an additional boost."
   ]
  },
  {
   "cell_type": "code",
   "execution_count": 30,
   "metadata": {
    "ExecuteTime": {
     "end_time": "2023-08-08T13:08:03.659510100Z",
     "start_time": "2023-08-08T13:08:03.648036800Z"
    },
    "id": "35pgTsVsJhMT"
   },
   "outputs": [],
   "source": [
    "# def apply_reward_manipulation(reward, box_position, next_box_position, end_goal_position, done):\n",
    "#     \"\"\"\n",
    "#     Apply reward manipulation based on manhatten distance trend caused by the action\n",
    "#     \"\"\"\n",
    "#     # If done, add another 1 point reward\n",
    "#     if done:\n",
    "#         return reward + 1\n",
    "\n",
    "#     curr_distance = manhattan_distance(box_position, end_goal_position)\n",
    "#     next_distance = manhattan_distance(next_box_position, end_goal_position)\n",
    "#     manip_reward = reward + next_distance - curr_distance\n",
    "\n",
    "#     # If the new distance is larger than the previous one (i.e. the move was wrong), give additional negative reward\n",
    "#     if next_distance - curr_distance > 0:\n",
    "#         manip_reward += 0.1\n",
    "#     else:\n",
    "#         manip_reward -= 0.5\n",
    "#     return manip_reward\n",
    "def apply_reward_manipulation(reward, box_positions, next_box_positions, end_goal_positions, done):\n",
    "    # Initialize manipulated reward\n",
    "    manip_reward = reward\n",
    "        \n",
    "    total_curr_distance = sum(min(manhattan_distance(box_pos, goal_pos) for goal_pos in end_goal_positions) for box_pos in box_positions)\n",
    "    total_next_distance = sum(min(manhattan_distance(box_pos, goal_pos) for goal_pos in end_goal_positions) for box_pos in next_box_positions)\n",
    "    \n",
    "    if total_next_distance < total_curr_distance:\n",
    "        manip_reward += 0.5  # Bonus for reducing total distance\n",
    "    elif total_next_distance > total_curr_distance:\n",
    "        manip_reward -= 0.5  # Penalty for increasing total distance\n",
    "\n",
    "    return manip_reward\n",
    "\n",
    "\n",
    "def manhattan_distance(agent_pos, box_pos):\n",
    "      \"\"\"\n",
    "      Calculate the Manhattan distance between agent position and box position\n",
    "      \"\"\"\n",
    "      return abs(agent_pos[0] - box_pos[0]) + abs(agent_pos[1] - box_pos[1])"
   ]
  },
  {
   "cell_type": "code",
   "execution_count": 31,
   "metadata": {
    "ExecuteTime": {
     "end_time": "2023-08-08T13:08:04.651177300Z",
     "start_time": "2023-08-08T13:08:04.622669600Z"
    },
    "id": "Q5Sxv4zuPR8H"
   },
   "outputs": [],
   "source": [
    "# def find_end_goal_position(room_state):\n",
    "#     row, col = np.where(room_state == 2)\n",
    "#     # print(f\"The end goal coordinates are {row[0], col[0]}\")\n",
    "#     return (row[0], col[0])\n",
    "\n",
    "# def find_box_position(room_state):\n",
    "#     row, col = np.where(room_state == 4)\n",
    "#     # print(f\"The box position coordinates are {row[0], col[0]}\")\n",
    "#     return (row[0], col[0])\n",
    "\n",
    "def find_end_goal_positions(room_state):\n",
    "    rows, cols = np.where(room_state == 2)\n",
    "    return [(row, col) for row, col in zip(rows, cols)]\n",
    "\n",
    "def find_box_positions(room_state):\n",
    "    rows, cols = np.where(room_state == 4)\n",
    "    return [(row, col) for row, col in zip(rows, cols)]"
   ]
  },
  {
   "cell_type": "markdown",
   "metadata": {},
   "source": [
    "### Training"
   ]
  },
  {
   "cell_type": "code",
   "execution_count": 32,
   "metadata": {},
   "outputs": [],
   "source": [
    "def train(env, run_name, memory, optimizer, policy_net, target_net, batch_size, num_episodes, max_num_steps_per_episode, tau=0.005, gamma=0.99, epsilon_decay_exp=False, epsilon_decay_linear=False, epsilon=0.1, epsilon_decay_factor=0.98, reward_manipulation=False, seed_env=True):\n",
    "    episode_durations = []\n",
    "    episode_rewards = []\n",
    "    n = 20\n",
    "    policies_dict = {}\n",
    "    min_epsilon = 0.1\n",
    "    max_epsilon = 1.0\n",
    "    save_interval = 500 # for long runs\n",
    "    \n",
    "    for i_episode in range(num_episodes):\n",
    "        if seed_env:\n",
    "            random.seed(2)\n",
    "        # state = env.reset()\n",
    "        # state = np.expand_dims(state, axis=0)\n",
    "        \n",
    "        state = env.reset(render_mode='raw')\n",
    "        state = np.stack(state)\n",
    "\n",
    "        np.random.seed()\n",
    "        \n",
    "        if reward_manipulation:\n",
    "            end_goal_positions = find_end_goal_positions(env.room_state)\n",
    "        episode_reward = 0\n",
    "        duration = 0\n",
    "\n",
    "        if i_episode % save_interval == 0 and i_episode > 0:\n",
    "            mlflow.pytorch.log_model(policy_net, f\"{run_name}_episode_{i_episode}\")\n",
    "        \n",
    "        # If we have passed n+1 episodes, check if we have reached convergence\n",
    "        if i_episode > n+1 and check_convergence(i_episode, episode_rewards, episode_durations):\n",
    "            mlflow.log_metric(\"Num episodes to converge\",i_episode)\n",
    "            # save_model(policy_net, run_name)\n",
    "            mlflow.pytorch.log_model(policy_net, run_name)\n",
    "            \n",
    "            policy_net_half_state_dict = policies_dict[f'episode_{i_episode//2}']\n",
    "            # policy_net_half = DQN(env.observation_space.shape, env.action_space.n).to(device)\n",
    "            policy_net_half = NoImageDQN(state.shape, env.action_space.n).to(device)\n",
    "            policy_net_half.load_state_dict(policy_net_half_state_dict)\n",
    "            # save_model(policy_net_half, f'{run_name}_half')\n",
    "            mlflow.pytorch.log_model(policy_net_half, f'{run_name}_half')\n",
    "            break\n",
    "        for t in range(max_num_steps_per_episode):\n",
    "            if reward_manipulation:\n",
    "                box_positions = find_box_positions(env.room_state)\n",
    "            \n",
    "            action = select_action(state, env, policy_net, epsilon=epsilon)\n",
    "            # observation, reward, done,  _ = env.step(action.item())\n",
    "            \n",
    "            observation, reward, done,  _ = env.step(action.item(), observation_mode='raw')\n",
    "            \n",
    "            reward = torch.tensor([reward], device=device)\n",
    "            if done:\n",
    "                next_state = None\n",
    "                if reward_manipulation:\n",
    "                    next_box_positions = None\n",
    "                    reward += 1\n",
    "            else:\n",
    "                # next_state = np.expand_dims(observation, axis=0)\n",
    "\n",
    "                next_state = np.stack(observation)\n",
    "                \n",
    "                if reward_manipulation:\n",
    "                    next_box_positions = find_box_positions(env.room_state)\n",
    "            if reward_manipulation and not done:\n",
    "                reward = apply_reward_manipulation(reward, box_positions, next_box_positions, end_goal_positions, done)\n",
    "            # Store the transition in memory\n",
    "            memory.push(state, action, next_state, reward)\n",
    "            state = next_state\n",
    "\n",
    "            # Optimize the policy network\n",
    "            optimize_model(batch_size, gamma, optimizer, policy_net, target_net, memory)\n",
    "            episode_reward += reward.item()\n",
    "            duration += 1\n",
    "\n",
    "            # Update of the policy and target network Ws\n",
    "            target_net_state_dict = target_net.state_dict()\n",
    "            policy_net_state_dict = policy_net.state_dict()\n",
    "            for key in policy_net_state_dict:\n",
    "                target_net_state_dict[key] = policy_net_state_dict[key]*tau + target_net_state_dict[key]*(1-tau)\n",
    "            target_net.load_state_dict(target_net_state_dict)\n",
    "\n",
    "            \n",
    "            \n",
    "            # Apply epsilon decay iff the episode was successful:\n",
    "            if epsilon_decay_exp:\n",
    "                epsilon = max(min_epsilon, epsilon * epsilon_decay_factor)\n",
    "            elif epsilon_decay_linear:\n",
    "                epsilon = max(min_epsilon, max_epsilon - (i_episode / epsilon_decay_factor) * (max_epsilon - min_epsilon))\n",
    "\n",
    "            if done:\n",
    "                episode_rewards.append(episode_reward)\n",
    "                episode_durations.append(t + 1)\n",
    "                policy_state = {k: v.cpu() for k, v in policy_net.state_dict().items()}\n",
    "                policies_dict.update({f'episode_{i_episode}': policy_state})\n",
    "                if i_episode % n == 0:\n",
    "                    clear_output()\n",
    "                    print(f\"On episode {i_episode}, the average reward for the past {n} episodes is {round(np.mean(episode_rewards[-n:]),2)}\")\n",
    "                    print(f\"The average duration of episode in the past {n} is {round(np.mean(episode_durations[-n:]),2)}\")\n",
    "                    plot_results(episode_durations, duration_mode=True, run_name=run_name)\n",
    "                    plot_results(episode_rewards, run_name=run_name)\n",
    "                break\n",
    "        mlflow.log_metric(\"Number of steps\",t+1,step=i_episode)\n",
    "        mlflow.log_metric(\"Sum of rewards\",episode_reward,step=i_episode)\n",
    "        \n",
    "    return episode_durations, episode_rewards, policies_dict"
   ]
  },
  {
   "cell_type": "code",
   "execution_count": 33,
   "metadata": {},
   "outputs": [],
   "source": [
    "def run_experiment(sokoban, run_name, num_episodes, optimizer_class, lr, epsilon, epsilon_decay_factor, epsilon_decay_exp, epsilon_decay_linear, batch_size, reward_manipulation, memory_size, seed_env):\n",
    "    # env = create_env(sokoban)\n",
    "\n",
    "    env = sokoban\n",
    "    \n",
    "    memory = ReplayMemory(memory_size)\n",
    "    n_actions = env.action_space.n\n",
    "    if seed_env:\n",
    "        random.seed(2)\n",
    "    # state = env.reset()\n",
    "\n",
    "    state = env.reset(render_mode='raw')\n",
    "    state = np.stack(state)\n",
    "    input_shape = state.shape\n",
    "    n_actions = env.action_space.n\n",
    "    \n",
    "    \n",
    "    np.random.seed()\n",
    "    n_observations = len(state)\n",
    "    # policy_net = DQN(env.observation_space.shape, n_actions).to(device)\n",
    "    # target_net = DQN(env.observation_space.shape, n_actions).to(device)\n",
    "\n",
    "    policy_net = NoImageDQN(input_shape, n_actions).to(device)\n",
    "    target_net = NoImageDQN(input_shape, n_actions).to(device)\n",
    "    \n",
    "    target_net.load_state_dict(policy_net.state_dict())\n",
    "    if optimizer_class == 'AdamW':\n",
    "        optimizer = optim.AdamW(policy_net.parameters(), lr=lr, amsgrad=True)\n",
    "    elif optimizer_class == 'SGD':\n",
    "        optimizer = optim.SGD(policy_net.parameters(), lr=lr, momentum=0.9)\n",
    "    elif optimizer_class == 'RMSprop':\n",
    "        optimizer = optim.RMSprop(policy_net.parameters(), lr=lr, alpha=0.99, eps=1e-08)\n",
    "    else:\n",
    "        raise ValueError(f\"Unsupported optimizer class: {optimizer_class}\")\n",
    "    max_num_steps_per_episode = 500\n",
    "    episode_durations, episode_rewards, policies_dict = train(env, run_name, memory, optimizer, policy_net, target_net, batch_size, num_episodes, max_num_steps_per_episode,\n",
    "                                                              epsilon_decay_factor=epsilon_decay_factor, epsilon_decay_exp=epsilon_decay_exp, epsilon_decay_linear=epsilon_decay_linear,\n",
    "                                                              epsilon=epsilon, reward_manipulation=reward_manipulation, seed_env=seed_env)\n",
    "    return episode_durations, episode_rewards, policies_dict"
   ]
  },
  {
   "cell_type": "code",
   "execution_count": 34,
   "metadata": {
    "ExecuteTime": {
     "end_time": "2023-08-04T12:57:20.783196100Z",
     "start_time": "2023-08-04T12:57:20.402405200Z"
    },
    "id": "7ClFZrcOMsOe",
    "scrolled": true
   },
   "outputs": [],
   "source": [
    "def run_experiments(sokoban, num_episodes=500, experiment_id=2, optimizer_classes=['AdamW', 'RMSprop'], lrs=[0.001, 0.0001], epsilons=[0.1, 0.25, 0.6, 1.0],\n",
    "                    reward_manipulation_options=[False, True], batch_sizes=[128, 64, 32], epsilon_decay_factor=None, epsilon_decay_exp=False, epsilon_decay_linear=False, memory_size=50000, seed_env=True):\n",
    "    for reward_manipulation in reward_manipulation_options:\n",
    "        for lr in lrs:\n",
    "            for optimizer_class in optimizer_classes:\n",
    "                for batch_size in batch_sizes:\n",
    "                    for epsilon in epsilons:\n",
    "                        epsilon_decay = (epsilon_decay_exp or epsilon_decay_linear) and (epsilon_decay_factor > 0.5)\n",
    "                        run_name = f\"{optimizer_class}_{lr}_{epsilon}_decay_{epsilon_decay}_reward_manip_{reward_manipulation}_{batch_size}\"\n",
    "                        with mlflow.start_run(experiment_id=experiment_id, run_name=run_name):\n",
    "                            params = {\n",
    "                                \"optimizer_class\": optimizer_class,\n",
    "                                \"lr\": lr,\n",
    "                                \"epsilon\": epsilon,\n",
    "                                \"epsilon_decay\": epsilon_decay,\n",
    "                                \"batch_size\": batch_size,\n",
    "                                \"reward_manipulation\": reward_manipulation\n",
    "                            }\n",
    "                            if epsilon_decay:\n",
    "                                params[\"epsilon_decay_factor\"] = epsilon_decay_factor\n",
    "                                mlflow.log_params(params)\n",
    "                            else:\n",
    "                                mlflow.log_params(params)\n",
    "                            env = copy.deepcopy(sokoban)\n",
    "                            episode_durations, episode_rewards, policies_dict = run_experiment(sokoban, run_name, num_episodes, optimizer_class, lr,\n",
    "                                                                                               epsilon, epsilon_decay_factor, epsilon_decay_exp, epsilon_decay_linear,\n",
    "                                                                                               batch_size, reward_manipulation, memory_size, seed_env)\n",
    "                            print('Complete')\n",
    "                            plot_results(episode_durations, duration_mode=True, add_mean_and_std=True, log=True, run_name=run_name)\n",
    "                            plot_results(episode_rewards, add_mean_and_std=True, log=True, run_name=run_name)\n",
    "                            # mlflow.log_artifact(f\"results/{run_name}_Duration.png\")\n",
    "                            # mlflow.log_artifact(f\"results/{run_name}_Rewards.png\")"
   ]
  },
  {
   "cell_type": "markdown",
   "metadata": {
    "id": "uscWnZRZMbHV"
   },
   "source": [
    "# Feeling the Env"
   ]
  },
  {
   "cell_type": "markdown",
   "metadata": {
    "id": "tDaTYUJ4iufr"
   },
   "source": [
    "## EX1 - FIX SCENARIO -  PUSH & PULL - ONE BOX"
   ]
  },
  {
   "cell_type": "code",
   "execution_count": 35,
   "metadata": {
    "ExecuteTime": {
     "end_time": "2023-08-08T13:08:09.695926300Z",
     "start_time": "2023-08-08T13:08:09.625982700Z"
    },
    "id": "Vqa7N7WS9M8G"
   },
   "outputs": [],
   "source": [
    "#=============== DO NOT DELETE ===============\n",
    "random.seed(2)\n",
    "sok = PushAndPullSokobanEnv(dim_room=(7, 7),num_boxes=1 ,max_steps=500)\n",
    "# ============================================"
   ]
  },
  {
   "cell_type": "code",
   "execution_count": 36,
   "metadata": {
    "ExecuteTime": {
     "end_time": "2023-08-08T13:08:10.582065600Z",
     "start_time": "2023-08-08T13:08:10.334907800Z"
    },
    "colab": {
     "base_uri": "https://localhost:8080/",
     "height": 503
    },
    "id": "0hRklyCV55JZ",
    "outputId": "a0057cb4-7cdc-476f-b19e-19938042f552"
   },
   "outputs": [
    {
     "name": "stdout",
     "output_type": "stream",
     "text": [
      "Observation space: Box(0.0, 255.0, (112, 112, 3), float32)\n",
      "Action space: Discrete(13)\n",
      "Player position:[1 4]\n",
      "Box location: (3, 4)\n"
     ]
    },
    {
     "data": {
      "image/png": "[encoded data removed]",
      "text/plain": [
       "<Figure size 640x480 with 1 Axes>"
      ]
     },
     "metadata": {},
     "output_type": "display_data"
    }
   ],
   "source": [
    "random.seed(2)\n",
    "sok.reset()\n",
    "screen = sok.render(mode='rgb_array')\n",
    "plt.imshow(sok.render('rgb_array'))\n",
    "observation, reward, done, _ = sok.step(1)\n",
    "print_env_det(sok)"
   ]
  },
  {
   "cell_type": "markdown",
   "metadata": {
    "id": "6IXftqpcxw4w"
   },
   "source": [
    "### EX1 - Video test"
   ]
  },
  {
   "cell_type": "code",
   "execution_count": 37,
   "metadata": {
    "ExecuteTime": {
     "end_time": "2023-08-08T13:08:22.979354100Z",
     "start_time": "2023-08-08T13:08:22.970384600Z"
    },
    "colab": {
     "base_uri": "https://localhost:8080/",
     "height": 501
    },
    "id": "MF9LTmkst9wL",
    "outputId": "78e5ec5d-cb53-474e-f442-b824b727352c"
   },
   "outputs": [],
   "source": [
    "# env = sok\n",
    "# start_time = time.time()\n",
    "# done = False\n",
    "# iter = 0\n",
    "# video_filename = 'imageio.mp4'\n",
    "# with imageio.get_writer(video_filename, fps=10) as video:\n",
    "#   while (iter < 10) or not done:\n",
    "#     time_passed = int(time.time() - start_time)\n",
    "#     if done or time_passed > 3:\n",
    "#       break\n",
    "#     iter +=1\n",
    "#     action = env.action_space.sample()\n",
    "#     observation, reward, done, info = env.step(action)\n",
    "#     video.append_data(env.render(mode='rgb_array'))\n",
    "# embed_mp4(video_filename)"
   ]
  },
  {
   "cell_type": "code",
   "execution_count": 38,
   "metadata": {},
   "outputs": [
    {
     "name": "stdout",
     "output_type": "stream",
     "text": [
      "skipping\n"
     ]
    }
   ],
   "source": [
    "%%script echo skipping\n",
    "experiment_id = 8\n",
    "num_episodes = 500\n",
    "optimizer_classes = ['AdamW', 'RMSprop']\n",
    "lrs = [0.001, 0.0001]\n",
    "epsilons = [0.1, 0.25, 0.6, 1.0]\n",
    "reward_manipulation_options = [False, True]\n",
    "batch_sizes = [128, 64, 32]\n",
    "epsilon_decay_factor = 0.98\n",
    "epsilon_decay_exp = True\n",
    "epsilon_decay_linear = False\n",
    "memory_size = 50_000\n",
    "seed_env = True\n",
    "\n",
    "run_experiments(sok, num_episodes, experiment_id, optimizer_classes, lrs, epsilons, reward_manipulation_options,\n",
    "                batch_sizes, epsilon_decay_factor, epsilon_decay_exp, epsilon_decay_linear, memory_size, seed_env)"
   ]
  },
  {
   "cell_type": "markdown",
   "metadata": {},
   "source": [
    "To see all of the experiments run above:\n",
    "[EX1 Experiments](https://dagshub.com/aviv.ples/sokoban-rl.mlflow/#/experiments/2)"
   ]
  },
  {
   "cell_type": "markdown",
   "metadata": {
    "id": "mOt9e38LiUX_"
   },
   "source": [
    "## EX2 - PUSH & PULL - ONE BOX"
   ]
  },
  {
   "cell_type": "code",
   "execution_count": 39,
   "metadata": {
    "id": "QuO5Vz6X9KFP"
   },
   "outputs": [],
   "source": [
    "#=============== DO NOT DELETE ===============\n",
    "sok_2 = PushAndPullSokobanEnv(dim_room=(7, 7),num_boxes=1 ,max_steps=500)\n",
    "# ============================================"
   ]
  },
  {
   "cell_type": "code",
   "execution_count": 40,
   "metadata": {
    "colab": {
     "base_uri": "https://localhost:8080/",
     "height": 337
    },
    "id": "YzYaMz7drkE3",
    "outputId": "2487223a-a379-41ce-defa-e8a92ea1480f"
   },
   "outputs": [
    {
     "name": "stdout",
     "output_type": "stream",
     "text": [
      "Observation space: Box(0.0, 255.0, (112, 112, 3), float32)\n",
      "Action space: Discrete(13)\n",
      "Player position:[4 5]\n",
      "Box location: (4, 4)\n"
     ]
    },
    {
     "data": {
      "image/png": "[encoded data removed]",
      "text/plain": [
       "<Figure size 640x480 with 1 Axes>"
      ]
     },
     "metadata": {},
     "output_type": "display_data"
    }
   ],
   "source": [
    "screen = sok_2.render(mode='rgb_array')\n",
    "plt.imshow(sok_2.render('rgb_array'))\n",
    "observation, reward, done, _ = sok_2.step(1)\n",
    "print_env_det(sok_2)"
   ]
  },
  {
   "cell_type": "markdown",
   "metadata": {
    "id": "8-bPP5tn0IvJ"
   },
   "source": [
    "### EX2 - Video test"
   ]
  },
  {
   "cell_type": "code",
   "execution_count": 41,
   "metadata": {
    "colab": {
     "base_uri": "https://localhost:8080/",
     "height": 501
    },
    "id": "A_gYNbckuIu3",
    "outputId": "be5807dc-a414-4e5b-ddcc-b59005fb54dd"
   },
   "outputs": [],
   "source": [
    "# env = sok_2\n",
    "# start_time = time.time()\n",
    "# done = False\n",
    "# iter = 0\n",
    "# video_filename = 'imageio.mp4'\n",
    "# with imageio.get_writer(video_filename, fps=10) as video:\n",
    "#   while (iter < 10) or not done:\n",
    "#     time_passed = int(time.time() - start_time)\n",
    "#     if done or time_passed > 3:\n",
    "#       break\n",
    "#     iter +=1\n",
    "#     action = env.action_space.sample()\n",
    "#     observation, reward, done, info = env.step(action)\n",
    "#     video.append_data(env.render(mode='rgb_array'))\n",
    "# embed_mp4(video_filename)"
   ]
  },
  {
   "cell_type": "code",
   "execution_count": null,
   "metadata": {},
   "outputs": [
    {
     "name": "stdout",
     "output_type": "stream",
     "text": [
      "On episode 0, the average reward for the past 20 episodes is -48.0\n",
      "The average duration of episode in the past 20 is 500.0\n"
     ]
    },
    {
     "data": {
      "image/png": "[encoded data removed]",
      "text/plain": [
       "<Figure size 2000x1200 with 1 Axes>"
      ]
     },
     "metadata": {},
     "output_type": "display_data"
    },
    {
     "data": {
      "image/png": "[encoded data removed]",
      "text/plain": [
       "<Figure size 2000x1200 with 1 Axes>"
      ]
     },
     "metadata": {},
     "output_type": "display_data"
    }
   ],
   "source": [
    "experiment_id = 9\n",
    "num_episodes = 10_000\n",
    "optimizer_classes = ['AdamW']\n",
    "lrs = [0.0001]\n",
    "epsilons = [1.0]\n",
    "reward_manipulation_options = [True]\n",
    "batch_sizes = [128]\n",
    "epsilon_decay_factor = 1_000\n",
    "epsilon_decay_exp = False\n",
    "epsilon_decay_linear = True\n",
    "memory_size = 500_000\n",
    "seed_env = False\n",
    "\n",
    "run_experiments(sok_2, num_episodes, experiment_id, optimizer_classes, lrs, epsilons, reward_manipulation_options,\n",
    "                batch_sizes, epsilon_decay_factor, epsilon_decay_exp, epsilon_decay_linear, memory_size, seed_env)"
   ]
  },
  {
   "cell_type": "markdown",
   "metadata": {
    "id": "I-gRY9mtZ-6J"
   },
   "source": [
    "## EX3 - PUSH & PULL - TWO BOXES"
   ]
  },
  {
   "cell_type": "code",
   "execution_count": null,
   "metadata": {
    "id": "mFbVwDqf9C62"
   },
   "outputs": [],
   "source": [
    "#=============== DO NOT DELETE ===============\n",
    "sok_3 = PushAndPullSokobanEnv(dim_room=(7, 7),num_boxes=2 ,max_steps=500)\n",
    "# ============================================"
   ]
  },
  {
   "cell_type": "code",
   "execution_count": null,
   "metadata": {
    "colab": {
     "base_uri": "https://localhost:8080/",
     "height": 337
    },
    "id": "eb1TWQqCaCf_",
    "outputId": "a1a1f79e-67a1-4e90-8a6b-6e0a7fa4df31"
   },
   "outputs": [],
   "source": [
    "screen = sok_3.render(mode='rgb_array')\n",
    "plt.imshow(sok_3.render('rgb_array'))\n",
    "print_env_det(sok_3)"
   ]
  },
  {
   "cell_type": "markdown",
   "metadata": {
    "id": "EIk_Xm1i0TzJ"
   },
   "source": [
    "### EX3 - Video test"
   ]
  },
  {
   "cell_type": "code",
   "execution_count": null,
   "metadata": {
    "colab": {
     "base_uri": "https://localhost:8080/",
     "height": 501
    },
    "id": "uXs6GziOuWD9",
    "outputId": "b949a68c-3a3f-4c6c-e749-bac768e38d64"
   },
   "outputs": [],
   "source": [
    "# env = sok_3\n",
    "# start_time = time.time()\n",
    "# done = False\n",
    "# iter = 0\n",
    "# video_filename = 'imageio.mp4'\n",
    "# with imageio.get_writer(video_filename, fps=10) as video:\n",
    "#   while (iter < 10) or not done:\n",
    "#     time_passed = int(time.time() - start_time)\n",
    "#     if done or time_passed > 3:\n",
    "#       break\n",
    "#     iter +=1\n",
    "#     action = env.action_space.sample()\n",
    "#     observation, reward, done, info = env.step(action)\n",
    "#     video.append_data(env.render(mode='rgb_array'))\n",
    "# embed_mp4(video_filename)"
   ]
  },
  {
   "cell_type": "code",
   "execution_count": null,
   "metadata": {},
   "outputs": [],
   "source": [
    "%%script echo skipping\n",
    "experiment_id = 6\n",
    "num_episodes = 1_000_000\n",
    "optimizer_classes = ['AdamW']\n",
    "lrs = [0.001]\n",
    "epsilons = [1.0]\n",
    "reward_manipulation_options = [True]\n",
    "batch_sizes = [128]\n",
    "epsilon_decay_factor = 250_000\n",
    "epsilon_decay_exp = False\n",
    "epsilon_decay_linear = True\n",
    "memory_size = 1_000_000\n",
    "seed_env = False\n",
    "\n",
    "run_experiments(sok_3, num_episodes, experiment_id, optimizer_classes, lrs, epsilons, reward_manipulation_options,\n",
    "                batch_sizes, epsilon_decay_factor, epsilon_decay_exp, epsilon_decay_linear, memory_size, seed_env)"
   ]
  }
 ],
 "metadata": {
  "accelerator": "GPU",
  "colab": {
   "collapsed_sections": [
    "9525rZ_3JE58",
    "NYIu-mGTKDUG"
   ],
   "gpuType": "T4",
   "provenance": []
  },
  "kernelspec": {
   "display_name": "new_env",
   "language": "python",
   "name": "envs"
  },
  "language_info": {
   "codemirror_mode": {
    "name": "ipython",
    "version": 3
   },
   "file_extension": ".py",
   "mimetype": "text/x-python",
   "name": "python",
   "nbconvert_exporter": "python",
   "pygments_lexer": "ipython3",
   "version": "3.8.10"
  }
 },
 "nbformat": 4,
 "nbformat_minor": 4
}
