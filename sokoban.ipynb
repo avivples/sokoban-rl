{
 "cells": [
  {
   "cell_type": "markdown",
   "metadata": {
    "id": "4T3qcykHFi15"
   },
   "source": [
    "# Installs"
   ]
  },
  {
   "cell_type": "code",
   "execution_count": 1,
   "metadata": {
    "ExecuteTime": {
     "end_time": "2023-08-08T13:06:32.848255Z",
     "start_time": "2023-08-08T13:06:32.832211200Z"
    },
    "collapsed": false,
    "jupyter": {
     "outputs_hidden": false
    }
   },
   "outputs": [
    {
     "data": {
      "text/plain": [
       "'/raid/AICOE/aviv/envs/bin'"
      ]
     },
     "execution_count": 1,
     "metadata": {},
     "output_type": "execute_result"
    }
   ],
   "source": [
    "import os,sys\n",
    "\n",
    "os.path.dirname(sys.executable)"
   ]
  },
  {
   "cell_type": "code",
   "execution_count": 2,
   "metadata": {
    "ExecuteTime": {
     "end_time": "2023-08-08T13:06:40.459416Z",
     "start_time": "2023-08-08T13:06:40.436902300Z"
    },
    "id": "xKrQ3eRuJcVP"
   },
   "outputs": [],
   "source": [
    "#@markdown Enter the DAGsHub repository owner name:\n",
    "DAGSHUB_REPO_OWNER= \"aviv.ples\" #@param {type:\"string\"}\n",
    "\n",
    "#@markdown Enter the DAGsHub repository name:\n",
    "DAGSHUB_REPO_NAME= \"sokoban-rl\" #@param {type:\"string\"}\n",
    "\n",
    "#@markdown Enter the username of your DAGsHub account:\n",
    "DAGSHUB_USER_NAME = \"aviv.ples\" #@param {type:\"string\"}\n",
    "\n",
    "DAGSHUB_TOKEN = \"eb1587fdb4b2ef917e728f506d8bc187a67d1c93\""
   ]
  },
  {
   "cell_type": "code",
   "execution_count": 3,
   "metadata": {
    "ExecuteTime": {
     "end_time": "2023-08-08T13:06:49.455158Z",
     "start_time": "2023-08-08T13:06:49.377821400Z"
    },
    "id": "2dah0RrY9Kmj"
   },
   "outputs": [],
   "source": [
    "# %%capture\n",
    "# !apt-get update\n",
    "# !apt-get install -y xvfb ffmpeg freeglut3-dev\n",
    "# !pip install 'imageio==2.4.0'\n",
    "# !pip install gym==0.22\n",
    "# !pip install pygame\n",
    "# !apt-get install python-opengl -y\n",
    "# !pip install pyvirtualdisplay\n",
    "# !pip install piglet\n",
    "# !pip install gym_sokoban\n",
    "# !git clone https://github.com/avivg7/sokoban-so.git\n",
    "# !unzip /content/sokoban-so/Compress.zip\n",
    "\n",
    "# !pip install mlflow dagshub"
   ]
  },
  {
   "cell_type": "markdown",
   "metadata": {
    "id": "yHbKbI7BwIwv"
   },
   "source": [
    "# Imports"
   ]
  },
  {
   "cell_type": "code",
   "execution_count": 4,
   "metadata": {
    "ExecuteTime": {
     "end_time": "2023-08-08T13:06:55.575894700Z",
     "start_time": "2023-08-08T13:06:54.004970200Z"
    },
    "id": "1cNdWkV49OqN"
   },
   "outputs": [
    {
     "name": "stderr",
     "output_type": "stream",
     "text": [
      "\n"
     ]
    }
   ],
   "source": [
    "import numpy as np\n",
    "import gym\n",
    "from gym import logger as gymlogger\n",
    "from gym.utils import seeding\n",
    "from gym import error, spaces, utils\n",
    "gymlogger.set_level(40) # error only\n",
    "from soko_pap import *\n",
    "import glob\n",
    "import io\n",
    "import base64\n",
    "import os\n",
    "import random\n",
    "import matplotlib.pyplot as plt\n",
    "%matplotlib inline\n",
    "import math\n",
    "import glob\n",
    "from pyvirtualdisplay import Display\n",
    "from IPython.display import HTML\n",
    "from IPython import display as ipythondisplay\n",
    "import pygame\n",
    "import pyvirtualdisplay\n",
    "import imageio\n",
    "import IPython\n",
    "import time\n",
    "\n",
    "import copy\n",
    "\n",
    "import torch\n",
    "import torch.nn as nn\n",
    "import torch.optim as optim\n",
    "import torch.nn.functional as F\n",
    "from collections import namedtuple, deque\n",
    "import pickle\n",
    "import imageio\n",
    "from base64 import b64encode"
   ]
  },
  {
   "cell_type": "code",
   "execution_count": 5,
   "metadata": {
    "ExecuteTime": {
     "end_time": "2023-08-08T13:06:55.602890500Z",
     "start_time": "2023-08-08T13:06:55.560885300Z"
    },
    "colab": {
     "base_uri": "https://localhost:8080/"
    },
    "id": "8pzFCmRN5Z8p",
    "outputId": "108d928a-ca92-4153-d0bc-c948d9452d25"
   },
   "outputs": [
    {
     "data": {
      "application/javascript": [
       "IPython.notebook.set_autosave_interval(5000)"
      ]
     },
     "metadata": {},
     "output_type": "display_data"
    },
    {
     "name": "stdout",
     "output_type": "stream",
     "text": [
      "Autosaving every 5 seconds\n"
     ]
    }
   ],
   "source": [
    "import warnings\n",
    "warnings.filterwarnings(\"ignore\")\n",
    "%autosave 5"
   ]
  },
  {
   "cell_type": "markdown",
   "metadata": {
    "id": "J7bJeRHbwMIj"
   },
   "source": [
    "# Display utils\n",
    "The cell below contains the video display configuration. No need to make changes here."
   ]
  },
  {
   "cell_type": "code",
   "execution_count": 6,
   "metadata": {
    "ExecuteTime": {
     "end_time": "2023-08-08T13:06:56.449187400Z",
     "start_time": "2023-08-08T13:06:56.411119200Z"
    },
    "id": "z41WGwQt9i7_"
   },
   "outputs": [],
   "source": [
    "# def embed_mp4(filename):\n",
    "#   \"\"\"Embeds an mp4 file in the notebook.\"\"\"\n",
    "#   video = open(filename,'rb').read()\n",
    "#   b64 = base64.b64encode(video)\n",
    "#   tag = '''\n",
    "#   <video width=\"640\" height=\"480\" controls>\n",
    "#     <source src=\"data:video/mp4;base64,{0}\" type=\"video/mp4\">\n",
    "#   Your browser does not support the video tag.\n",
    "#   </video>'''.format(b64.decode())\n",
    "\n",
    "#   return IPython.display.HTML(tag)\n",
    "# display = pyvirtualdisplay.Display(visible=0, size=(1400, 900)).start()"
   ]
  },
  {
   "cell_type": "markdown",
   "metadata": {
    "id": "oyJXH2IO72xF"
   },
   "source": [
    "Function - given an environment it will print us the details about observation, actions, agent's position and boxes locations"
   ]
  },
  {
   "cell_type": "code",
   "execution_count": 7,
   "metadata": {
    "ExecuteTime": {
     "end_time": "2023-08-08T13:07:02.585349900Z",
     "start_time": "2023-08-08T13:07:02.546335800Z"
    },
    "id": "1UwaHk7t7eIj"
   },
   "outputs": [],
   "source": [
    "def print_env_det(env):\n",
    "  print(f'Observation space: {env.observation_space}'\n",
    "      f'\\nAction space: {env.action_space}'\n",
    "      f'\\nPlayer position:{env.player_position}'\n",
    "      f'\\nBox location: {find_box_location(env)}')"
   ]
  },
  {
   "cell_type": "markdown",
   "metadata": {
    "id": "10ndmX86l4LJ"
   },
   "source": [
    "Function - given an environment it will return the indexes position and boxes locations"
   ]
  },
  {
   "cell_type": "code",
   "execution_count": 8,
   "metadata": {
    "ExecuteTime": {
     "end_time": "2023-08-08T13:07:03.967607300Z",
     "start_time": "2023-08-08T13:07:03.949100600Z"
    },
    "id": "1bfAeHJmlufr"
   },
   "outputs": [],
   "source": [
    "def find_box_location(env):\n",
    "    idx = np.argmax(env.room_state == 4)\n",
    "    if env.room_state.flat[idx] == 4:\n",
    "        return np.unravel_index(idx, env.room_state.shape)\n",
    "    return None"
   ]
  },
  {
   "cell_type": "code",
   "execution_count": 9,
   "metadata": {
    "ExecuteTime": {
     "end_time": "2023-08-08T13:07:05.363399100Z",
     "start_time": "2023-08-08T13:07:04.700062900Z"
    },
    "id": "_CTNtuVoKfrh"
   },
   "outputs": [
    {
     "name": "stdout",
     "output_type": "stream",
     "text": [
      "https://dagshub.com/aviv.ples/sokoban-rl.mlflow\n"
     ]
    }
   ],
   "source": [
    "# MLFLOW\n",
    "\n",
    "import mlflow\n",
    "import os\n",
    "\n",
    "os.environ['MLFLOW_TRACKING_USERNAME'] = DAGSHUB_USER_NAME\n",
    "os.environ['MLFLOW_TRACKING_PASSWORD'] = DAGSHUB_TOKEN\n",
    "os.environ['MLFLOW_TRACKING_URI'] = f'https://dagshub.com/{DAGSHUB_REPO_OWNER}/{DAGSHUB_REPO_NAME}.mlflow'\n",
    "\n",
    "print(os.getenv('MLFLOW_TRACKING_URI'))"
   ]
  },
  {
   "cell_type": "markdown",
   "metadata": {
    "id": "__K3hWM6VqtR"
   },
   "source": [
    "# Functions"
   ]
  },
  {
   "cell_type": "markdown",
   "metadata": {
    "id": "9525rZ_3JE58"
   },
   "source": [
    "## Pre-processing"
   ]
  },
  {
   "cell_type": "markdown",
   "metadata": {
    "id": "lHnZ_6yUJFLY"
   },
   "source": [
    "Set the PyTorch device to either \"cuda\" if GPU is available, or CPU otherwise. If you GPU is available, using it can significantly speed up the computations required for training deep neural networks."
   ]
  },
  {
   "cell_type": "code",
   "execution_count": 10,
   "metadata": {
    "ExecuteTime": {
     "end_time": "2023-08-08T13:07:15.744021Z",
     "start_time": "2023-08-08T13:07:15.741010Z"
    },
    "id": "8WNfosK3CqBz"
   },
   "outputs": [],
   "source": [
    "device = torch.device(\"cuda:15\" if torch.cuda.is_available() else \"cpu\")"
   ]
  },
  {
   "cell_type": "markdown",
   "metadata": {
    "id": "JfpE-twdJV0x"
   },
   "source": [
    "The replay memory buffer is used to store the experiences of an agent while it runs within the env. We will use the buffer sampling transitions from the it and using them to update the network's parameters during the training."
   ]
  },
  {
   "cell_type": "code",
   "execution_count": 11,
   "metadata": {
    "ExecuteTime": {
     "end_time": "2023-08-08T13:07:33.278185700Z",
     "start_time": "2023-08-08T13:07:33.226313500Z"
    },
    "id": "FX_z0W7WGMc-"
   },
   "outputs": [],
   "source": [
    "Transition = namedtuple('Transition',\n",
    "                        ('state', 'action', 'next_state', 'reward'))\n",
    "\n",
    "\n",
    "class ReplayMemory(object):\n",
    "\n",
    "    def __init__(self, capacity):\n",
    "        self.memory = deque([], maxlen=capacity)\n",
    "\n",
    "    def push(self, *args):\n",
    "        \"\"\"Save a transition\"\"\"\n",
    "        self.memory.append(Transition(*args))\n",
    "\n",
    "    def sample(self, batch_size):\n",
    "        return random.sample(self.memory, batch_size)\n",
    "\n",
    "    def __len__(self):\n",
    "        return len(self.memory)\n"
   ]
  },
  {
   "cell_type": "markdown",
   "metadata": {
    "id": "Di76CcSUJb8d"
   },
   "source": [
    "DQN is a convolutional neural network model. The CNN extracts features from the input state, and then passes the feature vector through a fully connected network to produce a Q-value for each possible action."
   ]
  },
  {
   "cell_type": "code",
   "execution_count": 12,
   "metadata": {
    "ExecuteTime": {
     "end_time": "2023-08-08T13:07:34.095194700Z",
     "start_time": "2023-08-08T13:07:34.068046800Z"
    },
    "id": "R1yPvY9_GMfQ"
   },
   "outputs": [],
   "source": [
    "class DQN(nn.Module):\n",
    "    \"\"\"\n",
    "    Convolutional Neural Net with 3 conv layers and two linear layers\n",
    "    \"\"\"\n",
    "    def __init__(self, input_shape, n_actions):\n",
    "        super(DQN, self).__init__()\n",
    "        self.conv = nn.Sequential(\n",
    "            nn.Conv2d(input_shape[0], 32, kernel_size=8, stride=4),\n",
    "            nn.ReLU(),\n",
    "            nn.Conv2d(32, 64, kernel_size=4, stride=2),\n",
    "            nn.ReLU(),\n",
    "            nn.Conv2d(64, 64, kernel_size=3, stride=1),\n",
    "            nn.ReLU()\n",
    "        )\n",
    "\n",
    "        conv_out_size = self._get_conv_out(input_shape)\n",
    "        self.fc = nn.Sequential(\n",
    "            nn.Linear(conv_out_size, 512),\n",
    "            nn.ReLU(),\n",
    "            nn.Linear(512, n_actions)\n",
    "        )\n",
    "\n",
    "    def _get_conv_out(self, shape):\n",
    "        o = self.conv(torch.zeros(1, *shape))\n",
    "        return int(np.prod(o.size()))\n",
    "\n",
    "    def forward(self, x):\n",
    "        conv_out = self.conv(x).view(x.size()[0], -1)\n",
    "        return self.fc(conv_out)"
   ]
  },
  {
   "cell_type": "markdown",
   "metadata": {
    "id": "EN_rQIyiJhqG"
   },
   "source": [
    "Rescales each frame to size 112x112 with grayscale. The resulting observation is a NumPy array with shape (112, 112, 1)."
   ]
  },
  {
   "cell_type": "code",
   "execution_count": 13,
   "metadata": {
    "ExecuteTime": {
     "end_time": "2023-08-08T13:07:34.761374300Z",
     "start_time": "2023-08-08T13:07:34.730376100Z"
    },
    "id": "HbmxIR5DGLVP"
   },
   "outputs": [],
   "source": [
    "class Rescale112x112(gym.ObservationWrapper):\n",
    "    \"\"\"\n",
    "    Downsamples/Rescales each frame to size 112x112 with greyscale\n",
    "    \"\"\"\n",
    "    def __init__(self, env=None):\n",
    "        super(Rescale112x112, self).__init__(env)\n",
    "        self.observation_space = gym.spaces.Box(low=0, high=255, shape=(112, 112, 1), dtype=np.uint8)\n",
    "\n",
    "    def observation(self, obs):\n",
    "        return Rescale112x112.process(obs)\n",
    "\n",
    "    @staticmethod\n",
    "    def process(frame):\n",
    "        if frame.shape == (240, 256, 3):\n",
    "            img = np.reshape(frame, [240, 256, 3]).astype(np.float32)\n",
    "            img = img[:, :, 0] * 0.299 + img[:, :, 1] * 0.587 + img[:, :, 2] * 0.114\n",
    "            resized_screen = cv2.resize(img, (112, 112), interpolation=cv2.INTER_AREA)\n",
    "            x_t = np.reshape(resized_screen, [112, 112, 1])\n",
    "        elif frame.shape == (112, 112, 3):\n",
    "            # image normalization on RBG\n",
    "            img = frame[:, :, 0] * 0.299 + frame[:, :, 1] * 0.587 + frame[:, :, 2] * 0.114\n",
    "            x_t = np.reshape(img, [112, 112, 1])\n",
    "        else:\n",
    "            assert False, \"Unknown resolution.\"\n",
    "        return x_t.astype(np.uint8)\n"
   ]
  },
  {
   "cell_type": "markdown",
   "metadata": {
    "id": "K7R-0UDSJlXK"
   },
   "source": [
    "To reduce computation time preserving important visual information in the observations, we repeat each action over skip number of frames and return only every skip-th frame while taking the maximum pixel values across the skipped frames."
   ]
  },
  {
   "cell_type": "code",
   "execution_count": 14,
   "metadata": {
    "ExecuteTime": {
     "end_time": "2023-08-08T13:07:35.489140100Z",
     "start_time": "2023-08-08T13:07:35.462637400Z"
    },
    "id": "uGTFTgPINfK4"
   },
   "outputs": [],
   "source": [
    "class MaxAndSkipEnv(gym.Wrapper):\n",
    "    \"\"\"\n",
    "    Each action of the agent is repeated over skip frames\n",
    "    return only every `skip`-th frame\n",
    "    \"\"\"\n",
    "    def __init__(self, env=None, skip=4):\n",
    "        super().__init__(env)\n",
    "        self._obs_buffer = deque(maxlen=2)\n",
    "        self._skip = skip\n",
    "\n",
    "    def step(self, action):\n",
    "        total_reward = 0.0\n",
    "        done = None\n",
    "        for _ in range(self._skip):\n",
    "            obs, reward, done, info = self.env.step(action)\n",
    "            self._obs_buffer.append(obs)\n",
    "            total_reward += reward\n",
    "            if done:\n",
    "                break\n",
    "        max_frame = np.maximum(self._obs_buffer[0], self._obs_buffer[1])\n",
    "        return max_frame, total_reward, done, info\n",
    "\n",
    "    def reset(self, **kwargs):\n",
    "        self._obs_buffer.clear()\n",
    "        obs = self.env.reset(**kwargs)\n",
    "        self._obs_buffer.append(obs)\n",
    "        return obs\n"
   ]
  },
  {
   "cell_type": "markdown",
   "metadata": {
    "id": "VI4XPaPCJx0x"
   },
   "source": [
    "Convert each observation to a PyTorch tensor"
   ]
  },
  {
   "cell_type": "code",
   "execution_count": 15,
   "metadata": {
    "ExecuteTime": {
     "end_time": "2023-08-08T13:07:36.418244700Z",
     "start_time": "2023-08-08T13:07:36.388210900Z"
    },
    "id": "riSjosKxGADV"
   },
   "outputs": [],
   "source": [
    "class ImageToPyTorch(gym.ObservationWrapper):\n",
    "    \"\"\"\n",
    "    Each frame is converted to PyTorch tensors\n",
    "    \"\"\"\n",
    "    def __init__(self, env):\n",
    "        super(ImageToPyTorch, self).__init__(env)\n",
    "        old_shape = self.observation_space.shape\n",
    "        self.observation_space = gym.spaces.Box(low=0.0, high=1.0, shape=(old_shape[-1], old_shape[0], old_shape[1]), dtype=np.float32)\n",
    "\n",
    "    def observation(self, observation):\n",
    "        return np.moveaxis(observation, 2, 0)\n",
    "\n"
   ]
  },
  {
   "cell_type": "markdown",
   "metadata": {
    "id": "9rp8AoHgJsZZ"
   },
   "source": [
    "Create a buffer of size n_steps that stores every k-th frame of the environment observation."
   ]
  },
  {
   "cell_type": "code",
   "execution_count": 16,
   "metadata": {
    "ExecuteTime": {
     "end_time": "2023-08-08T13:07:37.283841400Z",
     "start_time": "2023-08-08T13:07:37.260947200Z"
    },
    "id": "O1idt7qTJsqQ"
   },
   "outputs": [],
   "source": [
    "class BufferWrapper(gym.ObservationWrapper):\n",
    "    \"\"\"\n",
    "    Only every k-th frame is collected by the buffer\n",
    "    \"\"\"\n",
    "    def __init__(self, env, n_steps, dtype=np.float32):\n",
    "        super(BufferWrapper, self).__init__(env)\n",
    "        self.dtype = dtype\n",
    "        old_space = env.observation_space\n",
    "        self.observation_space = gym.spaces.Box(old_space.low.repeat(n_steps, axis=0),\n",
    "                                                old_space.high.repeat(n_steps, axis=0), dtype=dtype)\n",
    "\n",
    "    def reset(self):\n",
    "        self.buffer = np.zeros_like(self.observation_space.low, dtype=self.dtype)\n",
    "        return self.observation(self.env.reset())\n",
    "\n",
    "    def observation(self, observation):\n",
    "        self.buffer[:-1] = self.buffer[1:]\n",
    "        self.buffer[-1] = observation\n",
    "        return self.buffer\n"
   ]
  },
  {
   "cell_type": "markdown",
   "metadata": {
    "id": "meXXJEynJszq"
   },
   "source": [
    "Normalize pixel values in each observation to be in the range of 0 to 1."
   ]
  },
  {
   "cell_type": "code",
   "execution_count": 17,
   "metadata": {
    "ExecuteTime": {
     "end_time": "2023-08-08T13:07:38.135615200Z",
     "start_time": "2023-08-08T13:07:38.113115600Z"
    },
    "id": "jXgx85d-Js7w"
   },
   "outputs": [],
   "source": [
    "class PixelNormalization(gym.ObservationWrapper):\n",
    "    \"\"\"\n",
    "    Normalize pixel values in frame --> 0 to 1\n",
    "    \"\"\"\n",
    "    def observation(self, obs):\n",
    "        return np.array(obs).astype(np.float32) / 255.0"
   ]
  },
  {
   "cell_type": "markdown",
   "metadata": {
    "id": "wbr9sbbgJ-Mf"
   },
   "source": [
    "Create proper env, post all pre-processing:"
   ]
  },
  {
   "cell_type": "code",
   "execution_count": 18,
   "metadata": {
    "ExecuteTime": {
     "end_time": "2023-08-08T13:07:39.340803800Z",
     "start_time": "2023-08-08T13:07:39.318369700Z"
    },
    "id": "Uar-3tcEPhQa"
   },
   "outputs": [],
   "source": [
    "def create_env(env):\n",
    "    env = MaxAndSkipEnv(env)\n",
    "    env = Rescale112x112(env)\n",
    "    env = ImageToPyTorch(env)\n",
    "    env = BufferWrapper(env, 4)\n",
    "    env = PixelNormalization(env)\n",
    "    return env"
   ]
  },
  {
   "cell_type": "markdown",
   "metadata": {
    "id": "NYIu-mGTKDUG"
   },
   "source": [
    "## Helper Functions"
   ]
  },
  {
   "cell_type": "markdown",
   "metadata": {
    "id": "MEJRuqNJPqso"
   },
   "source": [
    "### Convergence Threshold\n",
    "If the policy is such that in the previous 20 iterations both the rewards sum and the duration averages has stayed appx. the same as the last one, the policy has convereged. In addtion, we demand that the latest reward will be over 5, since in trial and error iterations we have seen that the final reward for the optimal solution is set around 6."
   ]
  },
  {
   "cell_type": "code",
   "execution_count": 19,
   "metadata": {
    "ExecuteTime": {
     "end_time": "2023-08-08T13:07:41.676541Z",
     "start_time": "2023-08-08T13:07:41.635539900Z"
    },
    "id": "umXHCBd3Pn6f"
   },
   "outputs": [],
   "source": [
    "# def check_convergence(i_episode, episode_rewards, episode_durations, n=20, reward_threshold=4):\n",
    "#     \"\"\"\n",
    "#     Check if the policy has converged based on the specified decision rule.\n",
    "\n",
    "#     Args:\n",
    "#     rewards (list[float]): List of rewards for each episode.\n",
    "#     durations (list[int]): List of episode durations (i.e., count of steps needed to complete each episode).\n",
    "\n",
    "#     Returns:\n",
    "#     bool: True if the policy has converged; False otherwise.\n",
    "#     \"\"\"\n",
    "\n",
    "#     # Check if there are at least n episodes to compare.\n",
    "#     if len(episode_rewards) < n + 1:\n",
    "#         return False\n",
    "#     if np.mean(episode_rewards[-n:]) < reward_threshold:\n",
    "#         return False\n",
    "#     print(f\"Policy has converged after {i_episode} episodes! The final episode_rewards sum is {episode_rewards[-1]}, and the final duration is {episode_durations[-1]}\")\n",
    "#     return True\n",
    "def exponential_moving_average(data, alpha=0.1):\n",
    "    ema = [data[0]]\n",
    "    for i in range(1, len(data)):\n",
    "        ema.append(alpha * data[i] + (1 - alpha) * ema[-1])\n",
    "    return ema\n",
    "\n",
    "def check_convergence(i_episode, episode_rewards, episode_durations, n=20, initial_reward_threshold=8, variance_threshold=1.0, duration_threshold=17):\n",
    "    if len(episode_rewards) < n + 1:\n",
    "        return False\n",
    "\n",
    "    # Calculate the exponential moving averages for rewards and durations\n",
    "    ema_rewards = exponential_moving_average(episode_rewards)\n",
    "    ema_durations = exponential_moving_average(episode_durations)\n",
    "\n",
    "    mean_reward = np.mean(ema_rewards[-n:])\n",
    "    reward_variance = np.var(ema_rewards[-n:])\n",
    "    mean_duration = np.mean(ema_durations[-n:])\n",
    "\n",
    "    # Adaptive threshold based on the progress of training\n",
    "    adaptive_reward_threshold = max(initial_reward_threshold - i_episode * 0.01, 4)\n",
    "\n",
    "    if mean_reward < adaptive_reward_threshold or reward_variance > variance_threshold or mean_duration > duration_threshold:\n",
    "        return False\n",
    "\n",
    "    print(f\"Policy has converged after {i_episode} episodes! The final episode_rewards sum is {episode_rewards[-1]}, and the final duration is {episode_durations[-1]}\")\n",
    "    return True\n"
   ]
  },
  {
   "cell_type": "markdown",
   "metadata": {
    "id": "ExNB49rvAHIa"
   },
   "source": [
    "### Optimize Model"
   ]
  },
  {
   "cell_type": "code",
   "execution_count": 20,
   "metadata": {
    "ExecuteTime": {
     "end_time": "2023-08-08T13:07:42.940558300Z",
     "start_time": "2023-08-08T13:07:42.903525700Z"
    },
    "id": "98w3EyIyryHA"
   },
   "outputs": [],
   "source": [
    "def optimize_model(batch_size, gamma, optimizer, policy_net, target_net, memory):\n",
    "    if len(memory) < batch_size:\n",
    "        return\n",
    "    transitions = memory.sample(batch_size)\n",
    "    # Transpose the batch (see https://stackoverflow.com/a/19343/3343043 for\n",
    "    # detailed explanation). This converts batch-array of Transitions\n",
    "    # to Transition of batch-arrays.\n",
    "    batch = Transition(*zip(*transitions))\n",
    "    # Compute a mask of non-final states and concatenate the batch elements\n",
    "    # (a final state would've been the one after which simulation ended)\n",
    "    non_final_mask = torch.tensor(tuple(map(lambda s: s is not None,\n",
    "                                          batch.next_state)), device=device, dtype=torch.bool)\n",
    "    non_final_next_states = torch.cat([s for s in batch.next_state\n",
    "                                                if s is not None])\n",
    "    state_batch = torch.cat(batch.state)\n",
    "    action_batch = torch.cat(batch.action)\n",
    "    reward_batch = torch.cat(batch.reward)\n",
    "\n",
    "    # Compute Q(s_t, a) - the model computes Q(s_t), then we select the\n",
    "    # columns of actions taken. These are the actions which would've been taken\n",
    "    # for each batch state according to policy_net\n",
    "    state_action_values = policy_net(state_batch).gather(1, action_batch)\n",
    "\n",
    "    # Compute V(s_{t+1}) for all next states.\n",
    "    # Expected values of actions for non_final_next_states are computed based\n",
    "    # on the \"older\" target_net; selecting their best reward with max(1)[0].\n",
    "    # This is merged based on the mask, such that we'll have either the expected\n",
    "    # state value or 0 in case the state was final.\n",
    "    next_state_values = torch.zeros(batch_size, device=device)\n",
    "    with torch.no_grad():\n",
    "        next_state_values[non_final_mask] = target_net(non_final_next_states).max(1)[0]\n",
    "    # Compute the expected Q values\n",
    "    expected_state_action_values = (next_state_values * gamma) + reward_batch\n",
    "\n",
    "    # Compute Huber loss\n",
    "    criterion = nn.SmoothL1Loss()\n",
    "    loss = criterion(state_action_values, expected_state_action_values.unsqueeze(1))\n",
    "\n",
    "    # Optimize the model\n",
    "    optimizer.zero_grad()\n",
    "    loss.backward()\n",
    "    # In-place gradient clipping\n",
    "    torch.nn.utils.clip_grad_value_(policy_net.parameters(), 100)\n",
    "    optimizer.step()\n"
   ]
  },
  {
   "cell_type": "markdown",
   "metadata": {
    "id": "sSegxfwDAK6n"
   },
   "source": [
    "### Plot Results"
   ]
  },
  {
   "cell_type": "code",
   "execution_count": 21,
   "metadata": {
    "ExecuteTime": {
     "end_time": "2023-08-08T13:07:43.805620800Z",
     "start_time": "2023-08-08T13:07:43.750120100Z"
    },
    "id": "ny5iRbjTruzz"
   },
   "outputs": [],
   "source": [
    "def plot_results(res_list, duration_mode=False, add_mean_and_std=False, save=False, run_name=None):\n",
    "    if duration_mode:\n",
    "        y = 'Duration'\n",
    "    else:\n",
    "        y = 'Rewards'\n",
    "    fig = plt.figure(figsize=(20, 12))\n",
    "    ax = fig.add_subplot(111)\n",
    "    ax.set_xlabel('Episode', fontsize=14)\n",
    "    ax.set_ylabel(y, fontsize=14)\n",
    "    ax.tick_params(axis='both', which='major', labelsize=12)\n",
    "    ax.plot(res_list, color='#0072BD', linewidth=2)\n",
    "    ax.grid(linestyle='--', linewidth=0.5, alpha=0.7)\n",
    "\n",
    "    if add_mean_and_std:\n",
    "        # Add mean and standard deviation to the plot\n",
    "        res_mean = np.mean(res_list)\n",
    "        res_std = np.std(res_list)\n",
    "        ax.axhline(res_mean, color='#D95319', linestyle='--', linewidth=2, label='Mean')\n",
    "        ax.fill_between(range(len(res_list)), res_list-res_std, res_list+res_std, color='#EDB120', alpha=0.2, label='Std Dev')\n",
    "        ax.legend(loc='best', fontsize=12)\n",
    "    if save:\n",
    "        plt.savefig(f'results/{run_name}_{y}.png')\n",
    "    plt.show()\n"
   ]
  },
  {
   "cell_type": "markdown",
   "metadata": {
    "id": "9X5P--YxAPC2"
   },
   "source": [
    "### Select Action"
   ]
  },
  {
   "cell_type": "code",
   "execution_count": 22,
   "metadata": {
    "ExecuteTime": {
     "end_time": "2023-08-08T13:07:44.696655500Z",
     "start_time": "2023-08-08T13:07:44.673629100Z"
    },
    "id": "UY2kk0nMhkkK"
   },
   "outputs": [],
   "source": [
    "def select_action(state, env, policy_net, epsilon = 0.1):\n",
    "    sample = random.random()\n",
    "    if sample > epsilon:\n",
    "        with torch.no_grad():\n",
    "            return policy_net(state).max(1)[1].view(1, 1)\n",
    "    else:\n",
    "        return torch.tensor([[env.action_space.sample()]], device=device, dtype=torch.long)\n"
   ]
  },
  {
   "cell_type": "markdown",
   "metadata": {
    "id": "WZ9N1Kv6yv5q"
   },
   "source": [
    "### Model Utils"
   ]
  },
  {
   "cell_type": "markdown",
   "metadata": {
    "id": "UNTXKJIVzfV3"
   },
   "source": [
    "#### Load Existing Model"
   ]
  },
  {
   "cell_type": "code",
   "execution_count": 23,
   "metadata": {
    "ExecuteTime": {
     "end_time": "2023-08-08T13:07:46.077615100Z",
     "start_time": "2023-08-08T13:07:46.035615100Z"
    },
    "id": "XneFHeawzers"
   },
   "outputs": [],
   "source": [
    "def load_model(model_name, policy_net):\n",
    "    with open(f'models/{model_name}.pkl', 'rb') as f:\n",
    "        state_dict = pickle.load(f)\n",
    "\n",
    "    policy_net.load_state_dict(state_dict)\n",
    "    return policy_net"
   ]
  },
  {
   "cell_type": "markdown",
   "metadata": {
    "id": "Zg87ybVunl3H"
   },
   "source": [
    "#### Save Existing Model"
   ]
  },
  {
   "cell_type": "code",
   "execution_count": 24,
   "metadata": {
    "ExecuteTime": {
     "end_time": "2023-08-08T13:07:46.994334900Z",
     "start_time": "2023-08-08T13:07:46.969833700Z"
    },
    "id": "xXqmu4pYy06f"
   },
   "outputs": [],
   "source": [
    "def save_model(policy_net, model_name):\n",
    "    state_dict = policy_net.state_dict()\n",
    "    file_path = f\"models/{model_name}.pkl\"\n",
    "    with open(file_path, 'wb') as f:\n",
    "        pickle.dump(state_dict, f)\n",
    "        print(\"Saved model!\")\n",
    "\n",
    "    return None"
   ]
  },
  {
   "cell_type": "markdown",
   "metadata": {
    "id": "co4c5xqzFKtR"
   },
   "source": [
    "### Record Policy"
   ]
  },
  {
   "cell_type": "code",
   "execution_count": 25,
   "metadata": {
    "ExecuteTime": {
     "end_time": "2023-08-08T13:07:50.828308300Z",
     "start_time": "2023-08-08T13:07:50.789798Z"
    },
    "id": "2X2UqYrDFNIQ"
   },
   "outputs": [],
   "source": [
    "import matplotlib.animation as animation\n",
    "\n",
    "def record_policy(env, policy, max_steps=500, filename=''):\n",
    "    state = env.reset()\n",
    "    done = False\n",
    "    steps = 0\n",
    "    fig = plt.figure()\n",
    "    ims = []\n",
    "    while not done and steps < max_steps:\n",
    "        im = env.render()\n",
    "        ims.append([plt.imshow(im)])\n",
    "        action = np.argmax(policy[state]) if state in policy else env.action_space().sample()\n",
    "        next_state, reward, done, _ = env.step(action)\n",
    "        state = next_state\n",
    "        steps += 1\n",
    "    im = env.render()\n",
    "    ims.append([plt.imshow(im)])\n",
    "    ani = animation.ArtistAnimation(fig, ims, interval=50, blit=True, repeat_delay=1000);\n",
    "    ani.save(filename);\n",
    "    return"
   ]
  },
  {
   "cell_type": "markdown",
   "metadata": {
    "id": "8-Vqa4x_Z6Xl"
   },
   "source": [
    "#### Display Video"
   ]
  },
  {
   "cell_type": "code",
   "execution_count": 26,
   "metadata": {
    "ExecuteTime": {
     "end_time": "2023-08-08T13:08:01.835077900Z",
     "start_time": "2023-08-08T13:08:01.812052700Z"
    },
    "id": "E1iWteFxZ9OG"
   },
   "outputs": [],
   "source": [
    "def display_video(path):\n",
    "    # Open the video file\n",
    "    with open(path, 'rb') as f:\n",
    "        video_data = f.read()\n",
    "\n",
    "    # Base64 encode the video data\n",
    "    encoded_video = b64encode(video_data).decode('utf-8')\n",
    "\n",
    "    # Create the HTML string for displaying the video\n",
    "    html = f'<video width=\"480\" height=\"360\" controls><source src=\"data:video/mp4;base64,{encoded_video}\" type=\"video/mp4\"></video>'\n",
    "\n",
    "    # Display the video in the notebook\n",
    "    return HTML(html)\n"
   ]
  },
  {
   "cell_type": "markdown",
   "metadata": {
    "id": "F11M1BDQBRki"
   },
   "source": [
    "### Reward manipulation\n",
    "To shorten training times on this task, we added the a reward manipulation logic. In each reward caclulation we calculate the previous Manhatten distance between the box location and the target location (before the action), as well and the current distance (after the action). If the distance has decreased, than generally we assume that the action was a positive action, and give it a positive boost. Otherwise, we give it a negative boost. If the action completed the game, we give an additional boost."
   ]
  },
  {
   "cell_type": "code",
   "execution_count": 27,
   "metadata": {
    "ExecuteTime": {
     "end_time": "2023-08-08T13:08:03.659510100Z",
     "start_time": "2023-08-08T13:08:03.648036800Z"
    },
    "id": "35pgTsVsJhMT"
   },
   "outputs": [],
   "source": [
    "# def apply_reward_manipulation(reward, box_position, next_box_position, end_goal_position, done):\n",
    "#     \"\"\"\n",
    "#     Apply reward manipulation based on manhatten distance trend caused by the action\n",
    "#     \"\"\"\n",
    "#     # If done, add another 1 point reward\n",
    "#     if done:\n",
    "#         return reward + 1\n",
    "\n",
    "#     curr_distance = manhattan_distance(box_position, end_goal_position)\n",
    "#     next_distance = manhattan_distance(next_box_position, end_goal_position)\n",
    "#     manip_reward = reward + next_distance - curr_distance\n",
    "\n",
    "#     # If the new distance is larger than the previous one (i.e. the move was wrong), give additional negative reward\n",
    "#     if next_distance - curr_distance > 0:\n",
    "#         manip_reward += 0.1\n",
    "#     else:\n",
    "#         manip_reward -= 0.5\n",
    "#     return manip_reward\n",
    "def apply_reward_manipulation(reward, box_positions, next_box_positions, end_goal_positions, done):\n",
    "    # Initialize manipulated reward\n",
    "    manip_reward = reward\n",
    "        \n",
    "    total_curr_distance = sum(min(manhattan_distance(box_pos, goal_pos) for goal_pos in end_goal_positions) for box_pos in box_positions)\n",
    "    total_next_distance = sum(min(manhattan_distance(box_pos, goal_pos) for goal_pos in end_goal_positions) for box_pos in next_box_positions)\n",
    "    \n",
    "    if total_next_distance < total_curr_distance:\n",
    "        manip_reward += 0.5  # Bonus for reducing total distance\n",
    "    elif total_next_distance > total_curr_distance:\n",
    "        manip_reward -= 0.5  # Penalty for increasing total distance\n",
    "\n",
    "    return manip_reward\n",
    "\n",
    "\n",
    "def manhattan_distance(agent_pos, box_pos):\n",
    "      \"\"\"\n",
    "      Calculate the Manhattan distance between agent position and box position\n",
    "      \"\"\"\n",
    "      return abs(agent_pos[0] - box_pos[0]) + abs(agent_pos[1] - box_pos[1])"
   ]
  },
  {
   "cell_type": "code",
   "execution_count": 28,
   "metadata": {
    "ExecuteTime": {
     "end_time": "2023-08-08T13:08:04.651177300Z",
     "start_time": "2023-08-08T13:08:04.622669600Z"
    },
    "id": "Q5Sxv4zuPR8H"
   },
   "outputs": [],
   "source": [
    "# def find_end_goal_position(room_state):\n",
    "#     row, col = np.where(room_state == 2)\n",
    "#     # print(f\"The end goal coordinates are {row[0], col[0]}\")\n",
    "#     return (row[0], col[0])\n",
    "\n",
    "# def find_box_position(room_state):\n",
    "#     row, col = np.where(room_state == 4)\n",
    "#     # print(f\"The box position coordinates are {row[0], col[0]}\")\n",
    "#     return (row[0], col[0])\n",
    "\n",
    "def find_end_goal_positions(room_state):\n",
    "    rows, cols = np.where(room_state == 2)\n",
    "    return [(row, col) for row, col in zip(rows, cols)]\n",
    "\n",
    "def find_box_positions(room_state):\n",
    "    rows, cols = np.where(room_state == 4)\n",
    "    return [(row, col) for row, col in zip(rows, cols)]"
   ]
  },
  {
   "cell_type": "markdown",
   "metadata": {
    "id": "uscWnZRZMbHV"
   },
   "source": [
    "# Feeling the Env"
   ]
  },
  {
   "cell_type": "markdown",
   "metadata": {
    "id": "tDaTYUJ4iufr"
   },
   "source": [
    "## EX1 - FIX SCENARIO -  PUSH & PULL - ONE BOX"
   ]
  },
  {
   "cell_type": "code",
   "execution_count": 29,
   "metadata": {
    "ExecuteTime": {
     "end_time": "2023-08-08T13:08:09.695926300Z",
     "start_time": "2023-08-08T13:08:09.625982700Z"
    },
    "id": "Vqa7N7WS9M8G"
   },
   "outputs": [],
   "source": [
    "#=============== DO NOT DELETE ===============\n",
    "random.seed(2)\n",
    "sok = PushAndPullSokobanEnv(dim_room=(7, 7),num_boxes=1 ,max_steps=500)\n",
    "# ============================================"
   ]
  },
  {
   "cell_type": "code",
   "execution_count": 30,
   "metadata": {
    "ExecuteTime": {
     "end_time": "2023-08-08T13:08:10.582065600Z",
     "start_time": "2023-08-08T13:08:10.334907800Z"
    },
    "colab": {
     "base_uri": "https://localhost:8080/",
     "height": 503
    },
    "id": "0hRklyCV55JZ",
    "outputId": "a0057cb4-7cdc-476f-b19e-19938042f552"
   },
   "outputs": [
    {
     "name": "stdout",
     "output_type": "stream",
     "text": [
      "Observation space: Box(0.0, 255.0, (112, 112, 3), float32)\n",
      "Action space: Discrete(13)\n",
      "Player position:[1 1]\n",
      "Box location: (2, 2)\n"
     ]
    },
    {
     "data": {
      "image/png": "[encoded data removed]",
      "text/plain": [
       "<Figure size 640x480 with 1 Axes>"
      ]
     },
     "metadata": {},
     "output_type": "display_data"
    }
   ],
   "source": [
    "screen = sok.render(mode='rgb_array')\n",
    "plt.imshow(sok.render('rgb_array'))\n",
    "observation, reward, done, _ = sok.step(1)\n",
    "print_env_det(sok)"
   ]
  },
  {
   "cell_type": "markdown",
   "metadata": {
    "id": "6IXftqpcxw4w"
   },
   "source": [
    "### EX1 - Video test"
   ]
  },
  {
   "cell_type": "code",
   "execution_count": 31,
   "metadata": {
    "ExecuteTime": {
     "end_time": "2023-08-08T13:08:22.979354100Z",
     "start_time": "2023-08-08T13:08:22.970384600Z"
    },
    "colab": {
     "base_uri": "https://localhost:8080/",
     "height": 501
    },
    "id": "MF9LTmkst9wL",
    "outputId": "78e5ec5d-cb53-474e-f442-b824b727352c"
   },
   "outputs": [],
   "source": [
    "# env = sok\n",
    "# start_time = time.time()\n",
    "# done = False\n",
    "# iter = 0\n",
    "# video_filename = 'imageio.mp4'\n",
    "# with imageio.get_writer(video_filename, fps=10) as video:\n",
    "#   while (iter < 10) or not done:\n",
    "#     time_passed = int(time.time() - start_time)\n",
    "#     if done or time_passed > 3:\n",
    "#       break\n",
    "#     iter +=1\n",
    "#     action = env.action_space.sample()\n",
    "#     observation, reward, done, info = env.step(action)\n",
    "#     video.append_data(env.render(mode='rgb_array'))\n",
    "# embed_mp4(video_filename)"
   ]
  },
  {
   "cell_type": "code",
   "execution_count": 32,
   "metadata": {},
   "outputs": [],
   "source": [
    "def train(env, memory, optimizer, policy_net, target_net, batch_size, num_episodes, max_num_steps_per_episode, tau=0.005, gamma=0.99, epsilon_decay=False, epsilon=0.1, epsilon_decay_factor=0.98, reward_manipulation=False, seed_env=True):\n",
    "    episode_durations = []\n",
    "    episode_rewards = []\n",
    "    n = 20\n",
    "    policies_dict = {}\n",
    "    min_epsilon = 0.1\n",
    "\n",
    "    for i_episode in range(num_episodes):\n",
    "        if seed_env:\n",
    "            random.seed(2)\n",
    "        state = env.reset()\n",
    "        if not seed_env:\n",
    "            np.random.seed()\n",
    "        state = torch.tensor(state, dtype=torch.float32, device=device).unsqueeze(0)\n",
    "        if reward_manipulation:\n",
    "            end_goal_positions = find_end_goal_positions(env.room_state)\n",
    "        episode_reward = 0\n",
    "        duration = 0\n",
    "\n",
    "        # If we have passed n+1 episodes, check if we have reached convergence\n",
    "        if i_episode > n+1 and check_convergence(i_episode, episode_rewards, episode_durations):\n",
    "            mlflow.log_metric(\"Num episodes to converge\",i_episode)\n",
    "            save_model(policy_net, run_name)\n",
    "            mlflow.pytorch.log_model(policy_net, run_name)\n",
    "            \n",
    "            policy_net_half = policies_dict[f'episode_{i_episode//2}']\n",
    "            save_model(policy_net_half, f'{run_name}_half')\n",
    "            mlflow.pytorch.log_model(policy_net_half, f'{run_name}_half')\n",
    "            break\n",
    "        for t in range(max_num_steps_per_episode):\n",
    "            if reward_manipulation:\n",
    "                box_positions = find_box_positions(env.room_state)\n",
    "            \n",
    "            action = select_action(state, env, policy_net, epsilon=epsilon)\n",
    "            observation, reward, done,  _ = env.step(action.item())\n",
    "            reward = torch.tensor([reward], device=device)\n",
    "            if done:\n",
    "                next_state = None\n",
    "                if reward_manipulation:\n",
    "                    next_box_positions = None\n",
    "                    reward += 1\n",
    "            else:\n",
    "                next_state = torch.tensor(observation, dtype=torch.float32, device=device).unsqueeze(0)\n",
    "                if reward_manipulation:\n",
    "                    next_box_positions = find_box_positions(env.room_state)\n",
    "            if reward_manipulation and not done:\n",
    "                reward = apply_reward_manipulation(reward, box_positions, next_box_positions, end_goal_positions, done)\n",
    "            # Store the transition in memory\n",
    "            memory.push(state, action, next_state, reward)\n",
    "            state = next_state\n",
    "\n",
    "            # Optimize the policy network\n",
    "            optimize_model(batch_size, gamma, optimizer, policy_net, target_net, memory)\n",
    "            episode_reward += reward.item()\n",
    "            duration += 1\n",
    "\n",
    "            # Update of the policy and target network Ws\n",
    "            target_net_state_dict = target_net.state_dict()\n",
    "            policy_net_state_dict = policy_net.state_dict()\n",
    "            for key in policy_net_state_dict:\n",
    "                target_net_state_dict[key] = policy_net_state_dict[key]*tau + target_net_state_dict[key]*(1-tau)\n",
    "            target_net.load_state_dict(target_net_state_dict)\n",
    "\n",
    "            # Apply epsilon decay iff the episode was successful:\n",
    "            if epsilon_decay:\n",
    "                epsilon = max(min_epsilon, epsilon * epsilon_decay_factor)\n",
    "\n",
    "            if done:\n",
    "                episode_rewards.append(episode_reward)\n",
    "                episode_durations.append(t + 1)\n",
    "                policy = policy_net\n",
    "                policies_dict.update({f'episode_{i_episode}': policy})\n",
    "                if i_episode % n == 0:\n",
    "                    print(f\"On episode {i_episode}, the average reward for the past {n} episodes is {round(np.mean(episode_rewards[-n:]),2)}\")\n",
    "                    print(f\"The average duration of episode in the past {n} is {round(np.mean(episode_durations[-n:]),2)}\")\n",
    "                    plot_results(episode_durations, duration_mode=True)\n",
    "                    plot_results(episode_rewards)\n",
    "                break\n",
    "        mlflow.log_metric(\"Number of steps\",t+1,step=i_episode)\n",
    "        mlflow.log_metric(\"Sum of rewards\",episode_reward,step=i_episode)\n",
    "        \n",
    "    return episode_durations, episode_rewards, policies_dict"
   ]
  },
  {
   "cell_type": "code",
   "execution_count": 33,
   "metadata": {},
   "outputs": [],
   "source": [
    "def run_experiment(sokoban, run_name, num_episodes, optimizer_class, lr, epsilon, epsilon_decay, batch_size, reward_manipulation, memory_size, seed_env):\n",
    "    env = create_env(sokoban)\n",
    "    memory = ReplayMemory(memory_size)\n",
    "    n_actions = env.action_space.n\n",
    "    if seed_env:\n",
    "        random.seed(2)\n",
    "    state = env.reset()\n",
    "    if not seed_env:\n",
    "        np.random.seed()\n",
    "    n_observations = len(state)\n",
    "    policy_net = DQN(env.observation_space.shape, n_actions).to(device)\n",
    "    target_net = DQN(env.observation_space.shape, n_actions).to(device)\n",
    "    target_net.load_state_dict(policy_net.state_dict())\n",
    "    if optimizer_class == 'AdamW':\n",
    "        optimizer = optim.AdamW(policy_net.parameters(), lr=lr, amsgrad=True)\n",
    "    elif optimizer_class == 'SGD':\n",
    "        optimizer = optim.SGD(policy_net.parameters(), lr=lr, momentum=0.9)\n",
    "    elif optimizer_class == 'RMSprop':\n",
    "        optimizer = optim.RMSprop(policy_net.parameters(), lr=lr, alpha=0.99, eps=1e-08)\n",
    "    else:\n",
    "        raise ValueError(f\"Unsupported optimizer class: {optimizer_class}\")\n",
    "    max_num_steps_per_episode = 500\n",
    "    episode_durations, episode_rewards, policies_dict = train(env, memory, optimizer, policy_net, target_net, batch_size, num_episodes, max_num_steps_per_episode,\n",
    "                                                              epsilon_decay=epsilon_decay, epsilon=epsilon, reward_manipulation=reward_manipulation, seed_env=seed_env)\n",
    "    return episode_durations, episode_rewards, policies_dict"
   ]
  },
  {
   "cell_type": "code",
   "execution_count": 44,
   "metadata": {
    "ExecuteTime": {
     "end_time": "2023-08-04T12:57:20.783196100Z",
     "start_time": "2023-08-04T12:57:20.402405200Z"
    },
    "id": "7ClFZrcOMsOe",
    "scrolled": true
   },
   "outputs": [],
   "source": [
    "def run_experiments(sokoban, num_episodes=500, experiment_id=2, optimizer_classes=['AdamW', 'RMSprop'], lrs=[0.001, 0.0001], epsilons=[0.1, 0.25, 0.6, 1.0],\n",
    "                    reward_manipulation_options=[False, True], batch_sizes=[128, 64, 32], epsilon_decay_factor=0.98, memory_size=50000, seed_env=True):\n",
    "    for reward_manipulation in reward_manipulation_options:\n",
    "        for lr in lrs:\n",
    "            for optimizer_class in optimizer_classes:\n",
    "                for batch_size in batch_sizes:\n",
    "                    for epsilon in epsilons:\n",
    "                        epsilon_decay = epsilon > 0.5\n",
    "                        run_name = f\"{optimizer_class}_{lr}_{epsilon}_decay_{epsilon_decay}_reward_manip_{reward_manipulation}_{batch_size}\"\n",
    "                        with mlflow.start_run(experiment_id=experiment_id, run_name=run_name):\n",
    "                            params = {\n",
    "                                \"optimizer_class\": optimizer_class,\n",
    "                                \"lr\": lr,\n",
    "                                \"epsilon\": epsilon,\n",
    "                                \"epsilon_decay\": epsilon_decay,\n",
    "                                \"batch_size\": batch_size,\n",
    "                                \"reward_manipulation\": reward_manipulation\n",
    "                            }\n",
    "                            if epsilon_decay:\n",
    "                                params[\"epsilon_decay_factor\"] = epsilon_decay_factor\n",
    "                                # mlflow.log_params(params)\n",
    "                            else:\n",
    "                                pass# mlflow.log_params(params)\n",
    "                            env = copy.deepcopy(sokoban)\n",
    "                            episode_durations, episode_rewards, policies_dict = run_experiment(sokoban, run_name, num_episodes, optimizer_class, lr, epsilon, epsilon_decay, batch_size, reward_manipulation)\n",
    "                            print('Complete')\n",
    "                            plot_results(episode_durations, duration_mode=True, add_mean_and_std=True, save=True, run_name=run_name)\n",
    "                            plot_results(episode_rewards, add_mean_and_std=True, save=True, run_name=run_name)\n",
    "                            mlflow.log_artifact(f\"results/{run_name}_Duration.png\")\n",
    "                            mlflow.log_artifact(f\"results/{run_name}_Rewards.png\")"
   ]
  },
  {
   "cell_type": "code",
   "execution_count": 45,
   "metadata": {},
   "outputs": [
    {
     "name": "stdout",
     "output_type": "stream",
     "text": [
      "skipping\n"
     ]
    }
   ],
   "source": [
    "%%script echo skipping\n",
    "experiment_id = 2\n",
    "optimizer_classes = ['AdamW', 'RMSprop']\n",
    "lrs = [0.001, 0.0001]\n",
    "epsilons = [0.1, 0.25, 0.6, 1.0]\n",
    "reward_manipulation_options = [False, True]\n",
    "batch_sizes = [128, 64, 32]\n",
    "epsilon_decay_factor = 0.98\n",
    "memory_size = 50_000\n",
    "seed_env = True\n",
    "\n",
    "run_experiments(sok, experiment_id, optimizer_classes, lrs, epsilons, reward_manipulation_options,\n",
    "                batch_sizes, epsilon_decay_factor, memory_size, seed_env)"
   ]
  },
  {
   "cell_type": "markdown",
   "metadata": {
    "id": "mOt9e38LiUX_"
   },
   "source": [
    "## EX2 - PUSH & PULL - ONE BOX"
   ]
  },
  {
   "cell_type": "code",
   "execution_count": 36,
   "metadata": {
    "id": "QuO5Vz6X9KFP"
   },
   "outputs": [],
   "source": [
    "#=============== DO NOT DELETE ===============\n",
    "sok_2 = PushAndPullSokobanEnv(dim_room=(7, 7),num_boxes=1 ,max_steps=500)\n",
    "# ============================================"
   ]
  },
  {
   "cell_type": "code",
   "execution_count": 37,
   "metadata": {
    "colab": {
     "base_uri": "https://localhost:8080/",
     "height": 337
    },
    "id": "YzYaMz7drkE3",
    "outputId": "2487223a-a379-41ce-defa-e8a92ea1480f"
   },
   "outputs": [
    {
     "name": "stdout",
     "output_type": "stream",
     "text": [
      "Observation space: Box(0.0, 255.0, (112, 112, 3), float32)\n",
      "Action space: Discrete(13)\n",
      "Player position:[2 3]\n",
      "Box location: (3, 4)\n"
     ]
    },
    {
     "data": {
      "image/png": "[encoded data removed]",
      "text/plain": [
       "<Figure size 640x480 with 1 Axes>"
      ]
     },
     "metadata": {},
     "output_type": "display_data"
    }
   ],
   "source": [
    "screen = sok_2.render(mode='rgb_array')\n",
    "plt.imshow(sok_2.render('rgb_array'))\n",
    "observation, reward, done, _ = sok_2.step(1)\n",
    "print_env_det(sok_2)"
   ]
  },
  {
   "cell_type": "markdown",
   "metadata": {
    "id": "8-bPP5tn0IvJ"
   },
   "source": [
    "### EX2 - Video test"
   ]
  },
  {
   "cell_type": "code",
   "execution_count": 38,
   "metadata": {
    "colab": {
     "base_uri": "https://localhost:8080/",
     "height": 501
    },
    "id": "A_gYNbckuIu3",
    "outputId": "be5807dc-a414-4e5b-ddcc-b59005fb54dd"
   },
   "outputs": [],
   "source": [
    "# env = sok_2\n",
    "# start_time = time.time()\n",
    "# done = False\n",
    "# iter = 0\n",
    "# video_filename = 'imageio.mp4'\n",
    "# with imageio.get_writer(video_filename, fps=10) as video:\n",
    "#   while (iter < 10) or not done:\n",
    "#     time_passed = int(time.time() - start_time)\n",
    "#     if done or time_passed > 3:\n",
    "#       break\n",
    "#     iter +=1\n",
    "#     action = env.action_space.sample()\n",
    "#     observation, reward, done, info = env.step(action)\n",
    "#     video.append_data(env.render(mode='rgb_array'))\n",
    "# embed_mp4(video_filename)"
   ]
  },
  {
   "cell_type": "code",
   "execution_count": 46,
   "metadata": {
    "scrolled": true
   },
   "outputs": [
    {
     "ename": "MlflowException",
     "evalue": "API request to https://dagshub.com/aviv.ples/sokoban-rl.mlflow/api/2.0/mlflow/runs/create failed with exception HTTPSConnectionPool(host='dagshub.com', port=443): Max retries exceeded with url: /aviv.ples/sokoban-rl.mlflow/api/2.0/mlflow/runs/create (Caused by ResponseError('too many 500 error responses'))",
     "output_type": "error",
     "traceback": [
      "\u001b[0;31m---------------------------------------------------------------------------\u001b[0m",
      "\u001b[0;31mMaxRetryError\u001b[0m                             Traceback (most recent call last)",
      "File \u001b[0;32m/raid/AICOE/aviv/envs/lib/python3.8/site-packages/requests/adapters.py:486\u001b[0m, in \u001b[0;36mHTTPAdapter.send\u001b[0;34m(self, request, stream, timeout, verify, cert, proxies)\u001b[0m\n\u001b[1;32m    485\u001b[0m \u001b[38;5;28;01mtry\u001b[39;00m:\n\u001b[0;32m--> 486\u001b[0m     resp \u001b[38;5;241m=\u001b[39m \u001b[43mconn\u001b[49m\u001b[38;5;241;43m.\u001b[39;49m\u001b[43murlopen\u001b[49m\u001b[43m(\u001b[49m\n\u001b[1;32m    487\u001b[0m \u001b[43m        \u001b[49m\u001b[43mmethod\u001b[49m\u001b[38;5;241;43m=\u001b[39;49m\u001b[43mrequest\u001b[49m\u001b[38;5;241;43m.\u001b[39;49m\u001b[43mmethod\u001b[49m\u001b[43m,\u001b[49m\n\u001b[1;32m    488\u001b[0m \u001b[43m        \u001b[49m\u001b[43murl\u001b[49m\u001b[38;5;241;43m=\u001b[39;49m\u001b[43murl\u001b[49m\u001b[43m,\u001b[49m\n\u001b[1;32m    489\u001b[0m \u001b[43m        \u001b[49m\u001b[43mbody\u001b[49m\u001b[38;5;241;43m=\u001b[39;49m\u001b[43mrequest\u001b[49m\u001b[38;5;241;43m.\u001b[39;49m\u001b[43mbody\u001b[49m\u001b[43m,\u001b[49m\n\u001b[1;32m    490\u001b[0m \u001b[43m        \u001b[49m\u001b[43mheaders\u001b[49m\u001b[38;5;241;43m=\u001b[39;49m\u001b[43mrequest\u001b[49m\u001b[38;5;241;43m.\u001b[39;49m\u001b[43mheaders\u001b[49m\u001b[43m,\u001b[49m\n\u001b[1;32m    491\u001b[0m \u001b[43m        \u001b[49m\u001b[43mredirect\u001b[49m\u001b[38;5;241;43m=\u001b[39;49m\u001b[38;5;28;43;01mFalse\u001b[39;49;00m\u001b[43m,\u001b[49m\n\u001b[1;32m    492\u001b[0m \u001b[43m        \u001b[49m\u001b[43massert_same_host\u001b[49m\u001b[38;5;241;43m=\u001b[39;49m\u001b[38;5;28;43;01mFalse\u001b[39;49;00m\u001b[43m,\u001b[49m\n\u001b[1;32m    493\u001b[0m \u001b[43m        \u001b[49m\u001b[43mpreload_content\u001b[49m\u001b[38;5;241;43m=\u001b[39;49m\u001b[38;5;28;43;01mFalse\u001b[39;49;00m\u001b[43m,\u001b[49m\n\u001b[1;32m    494\u001b[0m \u001b[43m        \u001b[49m\u001b[43mdecode_content\u001b[49m\u001b[38;5;241;43m=\u001b[39;49m\u001b[38;5;28;43;01mFalse\u001b[39;49;00m\u001b[43m,\u001b[49m\n\u001b[1;32m    495\u001b[0m \u001b[43m        \u001b[49m\u001b[43mretries\u001b[49m\u001b[38;5;241;43m=\u001b[39;49m\u001b[38;5;28;43mself\u001b[39;49m\u001b[38;5;241;43m.\u001b[39;49m\u001b[43mmax_retries\u001b[49m\u001b[43m,\u001b[49m\n\u001b[1;32m    496\u001b[0m \u001b[43m        \u001b[49m\u001b[43mtimeout\u001b[49m\u001b[38;5;241;43m=\u001b[39;49m\u001b[43mtimeout\u001b[49m\u001b[43m,\u001b[49m\n\u001b[1;32m    497\u001b[0m \u001b[43m        \u001b[49m\u001b[43mchunked\u001b[49m\u001b[38;5;241;43m=\u001b[39;49m\u001b[43mchunked\u001b[49m\u001b[43m,\u001b[49m\n\u001b[1;32m    498\u001b[0m \u001b[43m    \u001b[49m\u001b[43m)\u001b[49m\n\u001b[1;32m    500\u001b[0m \u001b[38;5;28;01mexcept\u001b[39;00m (ProtocolError, \u001b[38;5;167;01mOSError\u001b[39;00m) \u001b[38;5;28;01mas\u001b[39;00m err:\n",
      "File \u001b[0;32m/raid/AICOE/aviv/envs/lib/python3.8/site-packages/urllib3/connectionpool.py:889\u001b[0m, in \u001b[0;36mHTTPConnectionPool.urlopen\u001b[0;34m(self, method, url, body, headers, retries, redirect, assert_same_host, timeout, pool_timeout, release_conn, chunked, body_pos, **response_kw)\u001b[0m\n\u001b[1;32m    888\u001b[0m     log\u001b[38;5;241m.\u001b[39mdebug(\u001b[38;5;124m\"\u001b[39m\u001b[38;5;124mRetry: \u001b[39m\u001b[38;5;132;01m%s\u001b[39;00m\u001b[38;5;124m\"\u001b[39m, url)\n\u001b[0;32m--> 889\u001b[0m     \u001b[38;5;28;01mreturn\u001b[39;00m \u001b[38;5;28;43mself\u001b[39;49m\u001b[38;5;241;43m.\u001b[39;49m\u001b[43murlopen\u001b[49m\u001b[43m(\u001b[49m\n\u001b[1;32m    890\u001b[0m \u001b[43m        \u001b[49m\u001b[43mmethod\u001b[49m\u001b[43m,\u001b[49m\n\u001b[1;32m    891\u001b[0m \u001b[43m        \u001b[49m\u001b[43murl\u001b[49m\u001b[43m,\u001b[49m\n\u001b[1;32m    892\u001b[0m \u001b[43m        \u001b[49m\u001b[43mbody\u001b[49m\u001b[43m,\u001b[49m\n\u001b[1;32m    893\u001b[0m \u001b[43m        \u001b[49m\u001b[43mheaders\u001b[49m\u001b[43m,\u001b[49m\n\u001b[1;32m    894\u001b[0m \u001b[43m        \u001b[49m\u001b[43mretries\u001b[49m\u001b[38;5;241;43m=\u001b[39;49m\u001b[43mretries\u001b[49m\u001b[43m,\u001b[49m\n\u001b[1;32m    895\u001b[0m \u001b[43m        \u001b[49m\u001b[43mredirect\u001b[49m\u001b[38;5;241;43m=\u001b[39;49m\u001b[43mredirect\u001b[49m\u001b[43m,\u001b[49m\n\u001b[1;32m    896\u001b[0m \u001b[43m        \u001b[49m\u001b[43massert_same_host\u001b[49m\u001b[38;5;241;43m=\u001b[39;49m\u001b[43massert_same_host\u001b[49m\u001b[43m,\u001b[49m\n\u001b[1;32m    897\u001b[0m \u001b[43m        \u001b[49m\u001b[43mtimeout\u001b[49m\u001b[38;5;241;43m=\u001b[39;49m\u001b[43mtimeout\u001b[49m\u001b[43m,\u001b[49m\n\u001b[1;32m    898\u001b[0m \u001b[43m        \u001b[49m\u001b[43mpool_timeout\u001b[49m\u001b[38;5;241;43m=\u001b[39;49m\u001b[43mpool_timeout\u001b[49m\u001b[43m,\u001b[49m\n\u001b[1;32m    899\u001b[0m \u001b[43m        \u001b[49m\u001b[43mrelease_conn\u001b[49m\u001b[38;5;241;43m=\u001b[39;49m\u001b[43mrelease_conn\u001b[49m\u001b[43m,\u001b[49m\n\u001b[1;32m    900\u001b[0m \u001b[43m        \u001b[49m\u001b[43mchunked\u001b[49m\u001b[38;5;241;43m=\u001b[39;49m\u001b[43mchunked\u001b[49m\u001b[43m,\u001b[49m\n\u001b[1;32m    901\u001b[0m \u001b[43m        \u001b[49m\u001b[43mbody_pos\u001b[49m\u001b[38;5;241;43m=\u001b[39;49m\u001b[43mbody_pos\u001b[49m\u001b[43m,\u001b[49m\n\u001b[1;32m    902\u001b[0m \u001b[43m        \u001b[49m\u001b[38;5;241;43m*\u001b[39;49m\u001b[38;5;241;43m*\u001b[39;49m\u001b[43mresponse_kw\u001b[49m\n\u001b[1;32m    903\u001b[0m \u001b[43m    \u001b[49m\u001b[43m)\u001b[49m\n\u001b[1;32m    905\u001b[0m \u001b[38;5;28;01mreturn\u001b[39;00m response\n",
      "File \u001b[0;32m/raid/AICOE/aviv/envs/lib/python3.8/site-packages/urllib3/connectionpool.py:889\u001b[0m, in \u001b[0;36mHTTPConnectionPool.urlopen\u001b[0;34m(self, method, url, body, headers, retries, redirect, assert_same_host, timeout, pool_timeout, release_conn, chunked, body_pos, **response_kw)\u001b[0m\n\u001b[1;32m    888\u001b[0m     log\u001b[38;5;241m.\u001b[39mdebug(\u001b[38;5;124m\"\u001b[39m\u001b[38;5;124mRetry: \u001b[39m\u001b[38;5;132;01m%s\u001b[39;00m\u001b[38;5;124m\"\u001b[39m, url)\n\u001b[0;32m--> 889\u001b[0m     \u001b[38;5;28;01mreturn\u001b[39;00m \u001b[38;5;28;43mself\u001b[39;49m\u001b[38;5;241;43m.\u001b[39;49m\u001b[43murlopen\u001b[49m\u001b[43m(\u001b[49m\n\u001b[1;32m    890\u001b[0m \u001b[43m        \u001b[49m\u001b[43mmethod\u001b[49m\u001b[43m,\u001b[49m\n\u001b[1;32m    891\u001b[0m \u001b[43m        \u001b[49m\u001b[43murl\u001b[49m\u001b[43m,\u001b[49m\n\u001b[1;32m    892\u001b[0m \u001b[43m        \u001b[49m\u001b[43mbody\u001b[49m\u001b[43m,\u001b[49m\n\u001b[1;32m    893\u001b[0m \u001b[43m        \u001b[49m\u001b[43mheaders\u001b[49m\u001b[43m,\u001b[49m\n\u001b[1;32m    894\u001b[0m \u001b[43m        \u001b[49m\u001b[43mretries\u001b[49m\u001b[38;5;241;43m=\u001b[39;49m\u001b[43mretries\u001b[49m\u001b[43m,\u001b[49m\n\u001b[1;32m    895\u001b[0m \u001b[43m        \u001b[49m\u001b[43mredirect\u001b[49m\u001b[38;5;241;43m=\u001b[39;49m\u001b[43mredirect\u001b[49m\u001b[43m,\u001b[49m\n\u001b[1;32m    896\u001b[0m \u001b[43m        \u001b[49m\u001b[43massert_same_host\u001b[49m\u001b[38;5;241;43m=\u001b[39;49m\u001b[43massert_same_host\u001b[49m\u001b[43m,\u001b[49m\n\u001b[1;32m    897\u001b[0m \u001b[43m        \u001b[49m\u001b[43mtimeout\u001b[49m\u001b[38;5;241;43m=\u001b[39;49m\u001b[43mtimeout\u001b[49m\u001b[43m,\u001b[49m\n\u001b[1;32m    898\u001b[0m \u001b[43m        \u001b[49m\u001b[43mpool_timeout\u001b[49m\u001b[38;5;241;43m=\u001b[39;49m\u001b[43mpool_timeout\u001b[49m\u001b[43m,\u001b[49m\n\u001b[1;32m    899\u001b[0m \u001b[43m        \u001b[49m\u001b[43mrelease_conn\u001b[49m\u001b[38;5;241;43m=\u001b[39;49m\u001b[43mrelease_conn\u001b[49m\u001b[43m,\u001b[49m\n\u001b[1;32m    900\u001b[0m \u001b[43m        \u001b[49m\u001b[43mchunked\u001b[49m\u001b[38;5;241;43m=\u001b[39;49m\u001b[43mchunked\u001b[49m\u001b[43m,\u001b[49m\n\u001b[1;32m    901\u001b[0m \u001b[43m        \u001b[49m\u001b[43mbody_pos\u001b[49m\u001b[38;5;241;43m=\u001b[39;49m\u001b[43mbody_pos\u001b[49m\u001b[43m,\u001b[49m\n\u001b[1;32m    902\u001b[0m \u001b[43m        \u001b[49m\u001b[38;5;241;43m*\u001b[39;49m\u001b[38;5;241;43m*\u001b[39;49m\u001b[43mresponse_kw\u001b[49m\n\u001b[1;32m    903\u001b[0m \u001b[43m    \u001b[49m\u001b[43m)\u001b[49m\n\u001b[1;32m    905\u001b[0m \u001b[38;5;28;01mreturn\u001b[39;00m response\n",
      "    \u001b[0;31m[... skipping similar frames: HTTPConnectionPool.urlopen at line 889 (2 times)]\u001b[0m\n",
      "File \u001b[0;32m/raid/AICOE/aviv/envs/lib/python3.8/site-packages/urllib3/connectionpool.py:889\u001b[0m, in \u001b[0;36mHTTPConnectionPool.urlopen\u001b[0;34m(self, method, url, body, headers, retries, redirect, assert_same_host, timeout, pool_timeout, release_conn, chunked, body_pos, **response_kw)\u001b[0m\n\u001b[1;32m    888\u001b[0m     log\u001b[38;5;241m.\u001b[39mdebug(\u001b[38;5;124m\"\u001b[39m\u001b[38;5;124mRetry: \u001b[39m\u001b[38;5;132;01m%s\u001b[39;00m\u001b[38;5;124m\"\u001b[39m, url)\n\u001b[0;32m--> 889\u001b[0m     \u001b[38;5;28;01mreturn\u001b[39;00m \u001b[38;5;28;43mself\u001b[39;49m\u001b[38;5;241;43m.\u001b[39;49m\u001b[43murlopen\u001b[49m\u001b[43m(\u001b[49m\n\u001b[1;32m    890\u001b[0m \u001b[43m        \u001b[49m\u001b[43mmethod\u001b[49m\u001b[43m,\u001b[49m\n\u001b[1;32m    891\u001b[0m \u001b[43m        \u001b[49m\u001b[43murl\u001b[49m\u001b[43m,\u001b[49m\n\u001b[1;32m    892\u001b[0m \u001b[43m        \u001b[49m\u001b[43mbody\u001b[49m\u001b[43m,\u001b[49m\n\u001b[1;32m    893\u001b[0m \u001b[43m        \u001b[49m\u001b[43mheaders\u001b[49m\u001b[43m,\u001b[49m\n\u001b[1;32m    894\u001b[0m \u001b[43m        \u001b[49m\u001b[43mretries\u001b[49m\u001b[38;5;241;43m=\u001b[39;49m\u001b[43mretries\u001b[49m\u001b[43m,\u001b[49m\n\u001b[1;32m    895\u001b[0m \u001b[43m        \u001b[49m\u001b[43mredirect\u001b[49m\u001b[38;5;241;43m=\u001b[39;49m\u001b[43mredirect\u001b[49m\u001b[43m,\u001b[49m\n\u001b[1;32m    896\u001b[0m \u001b[43m        \u001b[49m\u001b[43massert_same_host\u001b[49m\u001b[38;5;241;43m=\u001b[39;49m\u001b[43massert_same_host\u001b[49m\u001b[43m,\u001b[49m\n\u001b[1;32m    897\u001b[0m \u001b[43m        \u001b[49m\u001b[43mtimeout\u001b[49m\u001b[38;5;241;43m=\u001b[39;49m\u001b[43mtimeout\u001b[49m\u001b[43m,\u001b[49m\n\u001b[1;32m    898\u001b[0m \u001b[43m        \u001b[49m\u001b[43mpool_timeout\u001b[49m\u001b[38;5;241;43m=\u001b[39;49m\u001b[43mpool_timeout\u001b[49m\u001b[43m,\u001b[49m\n\u001b[1;32m    899\u001b[0m \u001b[43m        \u001b[49m\u001b[43mrelease_conn\u001b[49m\u001b[38;5;241;43m=\u001b[39;49m\u001b[43mrelease_conn\u001b[49m\u001b[43m,\u001b[49m\n\u001b[1;32m    900\u001b[0m \u001b[43m        \u001b[49m\u001b[43mchunked\u001b[49m\u001b[38;5;241;43m=\u001b[39;49m\u001b[43mchunked\u001b[49m\u001b[43m,\u001b[49m\n\u001b[1;32m    901\u001b[0m \u001b[43m        \u001b[49m\u001b[43mbody_pos\u001b[49m\u001b[38;5;241;43m=\u001b[39;49m\u001b[43mbody_pos\u001b[49m\u001b[43m,\u001b[49m\n\u001b[1;32m    902\u001b[0m \u001b[43m        \u001b[49m\u001b[38;5;241;43m*\u001b[39;49m\u001b[38;5;241;43m*\u001b[39;49m\u001b[43mresponse_kw\u001b[49m\n\u001b[1;32m    903\u001b[0m \u001b[43m    \u001b[49m\u001b[43m)\u001b[49m\n\u001b[1;32m    905\u001b[0m \u001b[38;5;28;01mreturn\u001b[39;00m response\n",
      "File \u001b[0;32m/raid/AICOE/aviv/envs/lib/python3.8/site-packages/urllib3/connectionpool.py:879\u001b[0m, in \u001b[0;36mHTTPConnectionPool.urlopen\u001b[0;34m(self, method, url, body, headers, retries, redirect, assert_same_host, timeout, pool_timeout, release_conn, chunked, body_pos, **response_kw)\u001b[0m\n\u001b[1;32m    878\u001b[0m \u001b[38;5;28;01mtry\u001b[39;00m:\n\u001b[0;32m--> 879\u001b[0m     retries \u001b[38;5;241m=\u001b[39m \u001b[43mretries\u001b[49m\u001b[38;5;241;43m.\u001b[39;49m\u001b[43mincrement\u001b[49m\u001b[43m(\u001b[49m\u001b[43mmethod\u001b[49m\u001b[43m,\u001b[49m\u001b[43m \u001b[49m\u001b[43murl\u001b[49m\u001b[43m,\u001b[49m\u001b[43m \u001b[49m\u001b[43mresponse\u001b[49m\u001b[38;5;241;43m=\u001b[39;49m\u001b[43mresponse\u001b[49m\u001b[43m,\u001b[49m\u001b[43m \u001b[49m\u001b[43m_pool\u001b[49m\u001b[38;5;241;43m=\u001b[39;49m\u001b[38;5;28;43mself\u001b[39;49m\u001b[43m)\u001b[49m\n\u001b[1;32m    880\u001b[0m \u001b[38;5;28;01mexcept\u001b[39;00m MaxRetryError:\n",
      "File \u001b[0;32m/raid/AICOE/aviv/envs/lib/python3.8/site-packages/urllib3/util/retry.py:592\u001b[0m, in \u001b[0;36mRetry.increment\u001b[0;34m(self, method, url, response, error, _pool, _stacktrace)\u001b[0m\n\u001b[1;32m    591\u001b[0m \u001b[38;5;28;01mif\u001b[39;00m new_retry\u001b[38;5;241m.\u001b[39mis_exhausted():\n\u001b[0;32m--> 592\u001b[0m     \u001b[38;5;28;01mraise\u001b[39;00m MaxRetryError(_pool, url, error \u001b[38;5;129;01mor\u001b[39;00m ResponseError(cause))\n\u001b[1;32m    594\u001b[0m log\u001b[38;5;241m.\u001b[39mdebug(\u001b[38;5;124m\"\u001b[39m\u001b[38;5;124mIncremented Retry for (url=\u001b[39m\u001b[38;5;124m'\u001b[39m\u001b[38;5;132;01m%s\u001b[39;00m\u001b[38;5;124m'\u001b[39m\u001b[38;5;124m): \u001b[39m\u001b[38;5;132;01m%r\u001b[39;00m\u001b[38;5;124m\"\u001b[39m, url, new_retry)\n",
      "\u001b[0;31mMaxRetryError\u001b[0m: HTTPSConnectionPool(host='dagshub.com', port=443): Max retries exceeded with url: /aviv.ples/sokoban-rl.mlflow/api/2.0/mlflow/runs/create (Caused by ResponseError('too many 500 error responses'))",
      "\nDuring handling of the above exception, another exception occurred:\n",
      "\u001b[0;31mRetryError\u001b[0m                                Traceback (most recent call last)",
      "File \u001b[0;32m/raid/AICOE/aviv/envs/lib/python3.8/site-packages/mlflow/utils/rest_utils.py:93\u001b[0m, in \u001b[0;36mhttp_request\u001b[0;34m(host_creds, endpoint, method, max_retries, backoff_factor, extra_headers, retry_codes, timeout, **kwargs)\u001b[0m\n\u001b[1;32m     92\u001b[0m \u001b[38;5;28;01mtry\u001b[39;00m:\n\u001b[0;32m---> 93\u001b[0m     \u001b[38;5;28;01mreturn\u001b[39;00m \u001b[43m_get_http_response_with_retries\u001b[49m\u001b[43m(\u001b[49m\n\u001b[1;32m     94\u001b[0m \u001b[43m        \u001b[49m\u001b[43mmethod\u001b[49m\u001b[43m,\u001b[49m\n\u001b[1;32m     95\u001b[0m \u001b[43m        \u001b[49m\u001b[43murl\u001b[49m\u001b[43m,\u001b[49m\n\u001b[1;32m     96\u001b[0m \u001b[43m        \u001b[49m\u001b[43mmax_retries\u001b[49m\u001b[43m,\u001b[49m\n\u001b[1;32m     97\u001b[0m \u001b[43m        \u001b[49m\u001b[43mbackoff_factor\u001b[49m\u001b[43m,\u001b[49m\n\u001b[1;32m     98\u001b[0m \u001b[43m        \u001b[49m\u001b[43mretry_codes\u001b[49m\u001b[43m,\u001b[49m\n\u001b[1;32m     99\u001b[0m \u001b[43m        \u001b[49m\u001b[43mheaders\u001b[49m\u001b[38;5;241;43m=\u001b[39;49m\u001b[43mheaders\u001b[49m\u001b[43m,\u001b[49m\n\u001b[1;32m    100\u001b[0m \u001b[43m        \u001b[49m\u001b[43mverify\u001b[49m\u001b[38;5;241;43m=\u001b[39;49m\u001b[43mhost_creds\u001b[49m\u001b[38;5;241;43m.\u001b[39;49m\u001b[43mverify\u001b[49m\u001b[43m,\u001b[49m\n\u001b[1;32m    101\u001b[0m \u001b[43m        \u001b[49m\u001b[43mtimeout\u001b[49m\u001b[38;5;241;43m=\u001b[39;49m\u001b[43mtimeout\u001b[49m\u001b[43m,\u001b[49m\n\u001b[1;32m    102\u001b[0m \u001b[43m        \u001b[49m\u001b[38;5;241;43m*\u001b[39;49m\u001b[38;5;241;43m*\u001b[39;49m\u001b[43mkwargs\u001b[49m\u001b[43m,\u001b[49m\n\u001b[1;32m    103\u001b[0m \u001b[43m    \u001b[49m\u001b[43m)\u001b[49m\n\u001b[1;32m    104\u001b[0m \u001b[38;5;28;01mexcept\u001b[39;00m requests\u001b[38;5;241m.\u001b[39mexceptions\u001b[38;5;241m.\u001b[39mTimeout \u001b[38;5;28;01mas\u001b[39;00m to:\n",
      "File \u001b[0;32m/raid/AICOE/aviv/envs/lib/python3.8/site-packages/mlflow/utils/request_utils.py:131\u001b[0m, in \u001b[0;36m_get_http_response_with_retries\u001b[0;34m(method, url, max_retries, backoff_factor, retry_codes, **kwargs)\u001b[0m\n\u001b[1;32m    130\u001b[0m session \u001b[38;5;241m=\u001b[39m _get_request_session(max_retries, backoff_factor, retry_codes)\n\u001b[0;32m--> 131\u001b[0m \u001b[38;5;28;01mreturn\u001b[39;00m \u001b[43msession\u001b[49m\u001b[38;5;241;43m.\u001b[39;49m\u001b[43mrequest\u001b[49m\u001b[43m(\u001b[49m\u001b[43mmethod\u001b[49m\u001b[43m,\u001b[49m\u001b[43m \u001b[49m\u001b[43murl\u001b[49m\u001b[43m,\u001b[49m\u001b[43m \u001b[49m\u001b[38;5;241;43m*\u001b[39;49m\u001b[38;5;241;43m*\u001b[39;49m\u001b[43mkwargs\u001b[49m\u001b[43m)\u001b[49m\n",
      "File \u001b[0;32m/raid/AICOE/aviv/envs/lib/python3.8/site-packages/requests/sessions.py:589\u001b[0m, in \u001b[0;36mSession.request\u001b[0;34m(self, method, url, params, data, headers, cookies, files, auth, timeout, allow_redirects, proxies, hooks, stream, verify, cert, json)\u001b[0m\n\u001b[1;32m    588\u001b[0m send_kwargs\u001b[38;5;241m.\u001b[39mupdate(settings)\n\u001b[0;32m--> 589\u001b[0m resp \u001b[38;5;241m=\u001b[39m \u001b[38;5;28;43mself\u001b[39;49m\u001b[38;5;241;43m.\u001b[39;49m\u001b[43msend\u001b[49m\u001b[43m(\u001b[49m\u001b[43mprep\u001b[49m\u001b[43m,\u001b[49m\u001b[43m \u001b[49m\u001b[38;5;241;43m*\u001b[39;49m\u001b[38;5;241;43m*\u001b[39;49m\u001b[43msend_kwargs\u001b[49m\u001b[43m)\u001b[49m\n\u001b[1;32m    591\u001b[0m \u001b[38;5;28;01mreturn\u001b[39;00m resp\n",
      "File \u001b[0;32m/raid/AICOE/aviv/envs/lib/python3.8/site-packages/requests/sessions.py:703\u001b[0m, in \u001b[0;36mSession.send\u001b[0;34m(self, request, **kwargs)\u001b[0m\n\u001b[1;32m    702\u001b[0m \u001b[38;5;66;03m# Send the request\u001b[39;00m\n\u001b[0;32m--> 703\u001b[0m r \u001b[38;5;241m=\u001b[39m \u001b[43madapter\u001b[49m\u001b[38;5;241;43m.\u001b[39;49m\u001b[43msend\u001b[49m\u001b[43m(\u001b[49m\u001b[43mrequest\u001b[49m\u001b[43m,\u001b[49m\u001b[43m \u001b[49m\u001b[38;5;241;43m*\u001b[39;49m\u001b[38;5;241;43m*\u001b[39;49m\u001b[43mkwargs\u001b[49m\u001b[43m)\u001b[49m\n\u001b[1;32m    705\u001b[0m \u001b[38;5;66;03m# Total elapsed time of the request (approximately)\u001b[39;00m\n",
      "File \u001b[0;32m/raid/AICOE/aviv/envs/lib/python3.8/site-packages/requests/adapters.py:510\u001b[0m, in \u001b[0;36mHTTPAdapter.send\u001b[0;34m(self, request, stream, timeout, verify, cert, proxies)\u001b[0m\n\u001b[1;32m    509\u001b[0m \u001b[38;5;28;01mif\u001b[39;00m \u001b[38;5;28misinstance\u001b[39m(e\u001b[38;5;241m.\u001b[39mreason, ResponseError):\n\u001b[0;32m--> 510\u001b[0m     \u001b[38;5;28;01mraise\u001b[39;00m RetryError(e, request\u001b[38;5;241m=\u001b[39mrequest)\n\u001b[1;32m    512\u001b[0m \u001b[38;5;28;01mif\u001b[39;00m \u001b[38;5;28misinstance\u001b[39m(e\u001b[38;5;241m.\u001b[39mreason, _ProxyError):\n",
      "\u001b[0;31mRetryError\u001b[0m: HTTPSConnectionPool(host='dagshub.com', port=443): Max retries exceeded with url: /aviv.ples/sokoban-rl.mlflow/api/2.0/mlflow/runs/create (Caused by ResponseError('too many 500 error responses'))",
      "\nDuring handling of the above exception, another exception occurred:\n",
      "\u001b[0;31mMlflowException\u001b[0m                           Traceback (most recent call last)",
      "Cell \u001b[0;32mIn[46], line 12\u001b[0m\n\u001b[1;32m      9\u001b[0m memory_size \u001b[38;5;241m=\u001b[39m \u001b[38;5;241m1_000_000\u001b[39m\n\u001b[1;32m     10\u001b[0m seed_env \u001b[38;5;241m=\u001b[39m \u001b[38;5;28;01mFalse\u001b[39;00m\n\u001b[0;32m---> 12\u001b[0m \u001b[43mrun_experiments\u001b[49m\u001b[43m(\u001b[49m\u001b[43msok_2\u001b[49m\u001b[43m,\u001b[49m\u001b[43m \u001b[49m\u001b[43mexperiment_id\u001b[49m\u001b[43m,\u001b[49m\u001b[43m \u001b[49m\u001b[43mnum_episodes\u001b[49m\u001b[43m,\u001b[49m\u001b[43m \u001b[49m\u001b[43moptimizer_classes\u001b[49m\u001b[43m,\u001b[49m\u001b[43m \u001b[49m\u001b[43mlrs\u001b[49m\u001b[43m,\u001b[49m\u001b[43m \u001b[49m\u001b[43mepsilons\u001b[49m\u001b[43m,\u001b[49m\u001b[43m \u001b[49m\u001b[43mreward_manipulation_options\u001b[49m\u001b[43m,\u001b[49m\n\u001b[1;32m     13\u001b[0m \u001b[43m                \u001b[49m\u001b[43mbatch_sizes\u001b[49m\u001b[43m,\u001b[49m\u001b[43m \u001b[49m\u001b[43mepsilon_decay_factor\u001b[49m\u001b[43m,\u001b[49m\u001b[43m \u001b[49m\u001b[43mmemory_size\u001b[49m\u001b[43m,\u001b[49m\u001b[43m \u001b[49m\u001b[43mseed_env\u001b[49m\u001b[43m)\u001b[49m\n",
      "Cell \u001b[0;32mIn[44], line 10\u001b[0m, in \u001b[0;36mrun_experiments\u001b[0;34m(sokoban, num_episodes, experiment_id, optimizer_classes, lrs, epsilons, reward_manipulation_options, batch_sizes, epsilon_decay_factor, memory_size, seed_env)\u001b[0m\n\u001b[1;32m      8\u001b[0m epsilon_decay \u001b[38;5;241m=\u001b[39m epsilon \u001b[38;5;241m>\u001b[39m \u001b[38;5;241m0.5\u001b[39m\n\u001b[1;32m      9\u001b[0m run_name \u001b[38;5;241m=\u001b[39m \u001b[38;5;124mf\u001b[39m\u001b[38;5;124m\"\u001b[39m\u001b[38;5;132;01m{\u001b[39;00moptimizer_class\u001b[38;5;132;01m}\u001b[39;00m\u001b[38;5;124m_\u001b[39m\u001b[38;5;132;01m{\u001b[39;00mlr\u001b[38;5;132;01m}\u001b[39;00m\u001b[38;5;124m_\u001b[39m\u001b[38;5;132;01m{\u001b[39;00mepsilon\u001b[38;5;132;01m}\u001b[39;00m\u001b[38;5;124m_decay_\u001b[39m\u001b[38;5;132;01m{\u001b[39;00mepsilon_decay\u001b[38;5;132;01m}\u001b[39;00m\u001b[38;5;124m_reward_manip_\u001b[39m\u001b[38;5;132;01m{\u001b[39;00mreward_manipulation\u001b[38;5;132;01m}\u001b[39;00m\u001b[38;5;124m_\u001b[39m\u001b[38;5;132;01m{\u001b[39;00mbatch_size\u001b[38;5;132;01m}\u001b[39;00m\u001b[38;5;124m\"\u001b[39m\n\u001b[0;32m---> 10\u001b[0m \u001b[38;5;28;01mwith\u001b[39;00m \u001b[43mmlflow\u001b[49m\u001b[38;5;241;43m.\u001b[39;49m\u001b[43mstart_run\u001b[49m\u001b[43m(\u001b[49m\u001b[43mexperiment_id\u001b[49m\u001b[38;5;241;43m=\u001b[39;49m\u001b[43mexperiment_id\u001b[49m\u001b[43m,\u001b[49m\u001b[43m \u001b[49m\u001b[43mrun_name\u001b[49m\u001b[38;5;241;43m=\u001b[39;49m\u001b[43mrun_name\u001b[49m\u001b[43m)\u001b[49m:\n\u001b[1;32m     11\u001b[0m     params \u001b[38;5;241m=\u001b[39m {\n\u001b[1;32m     12\u001b[0m         \u001b[38;5;124m\"\u001b[39m\u001b[38;5;124moptimizer_class\u001b[39m\u001b[38;5;124m\"\u001b[39m: optimizer_class,\n\u001b[1;32m     13\u001b[0m         \u001b[38;5;124m\"\u001b[39m\u001b[38;5;124mlr\u001b[39m\u001b[38;5;124m\"\u001b[39m: lr,\n\u001b[0;32m   (...)\u001b[0m\n\u001b[1;32m     17\u001b[0m         \u001b[38;5;124m\"\u001b[39m\u001b[38;5;124mreward_manipulation\u001b[39m\u001b[38;5;124m\"\u001b[39m: reward_manipulation\n\u001b[1;32m     18\u001b[0m     }\n\u001b[1;32m     19\u001b[0m     \u001b[38;5;28;01mif\u001b[39;00m epsilon_decay:\n",
      "File \u001b[0;32m/raid/AICOE/aviv/envs/lib/python3.8/site-packages/mlflow/tracking/fluent.py:366\u001b[0m, in \u001b[0;36mstart_run\u001b[0;34m(run_id, experiment_id, run_name, nested, tags, description)\u001b[0m\n\u001b[1;32m    362\u001b[0m         user_specified_tags[MLFLOW_RUN_NAME] \u001b[38;5;241m=\u001b[39m run_name\n\u001b[1;32m    364\u001b[0m     resolved_tags \u001b[38;5;241m=\u001b[39m context_registry\u001b[38;5;241m.\u001b[39mresolve_tags(user_specified_tags)\n\u001b[0;32m--> 366\u001b[0m     active_run_obj \u001b[38;5;241m=\u001b[39m \u001b[43mclient\u001b[49m\u001b[38;5;241;43m.\u001b[39;49m\u001b[43mcreate_run\u001b[49m\u001b[43m(\u001b[49m\n\u001b[1;32m    367\u001b[0m \u001b[43m        \u001b[49m\u001b[43mexperiment_id\u001b[49m\u001b[38;5;241;43m=\u001b[39;49m\u001b[43mexp_id_for_run\u001b[49m\u001b[43m,\u001b[49m\u001b[43m \u001b[49m\u001b[43mtags\u001b[49m\u001b[38;5;241;43m=\u001b[39;49m\u001b[43mresolved_tags\u001b[49m\u001b[43m,\u001b[49m\u001b[43m \u001b[49m\u001b[43mrun_name\u001b[49m\u001b[38;5;241;43m=\u001b[39;49m\u001b[43mrun_name\u001b[49m\n\u001b[1;32m    368\u001b[0m \u001b[43m    \u001b[49m\u001b[43m)\u001b[49m\n\u001b[1;32m    370\u001b[0m _active_run_stack\u001b[38;5;241m.\u001b[39mappend(ActiveRun(active_run_obj))\n\u001b[1;32m    371\u001b[0m \u001b[38;5;28;01mreturn\u001b[39;00m _active_run_stack[\u001b[38;5;241m-\u001b[39m\u001b[38;5;241m1\u001b[39m]\n",
      "File \u001b[0;32m/raid/AICOE/aviv/envs/lib/python3.8/site-packages/mlflow/tracking/client.py:326\u001b[0m, in \u001b[0;36mMlflowClient.create_run\u001b[0;34m(self, experiment_id, start_time, tags, run_name)\u001b[0m\n\u001b[1;32m    275\u001b[0m \u001b[38;5;28;01mdef\u001b[39;00m \u001b[38;5;21mcreate_run\u001b[39m(\n\u001b[1;32m    276\u001b[0m     \u001b[38;5;28mself\u001b[39m,\n\u001b[1;32m    277\u001b[0m     experiment_id: \u001b[38;5;28mstr\u001b[39m,\n\u001b[0;32m   (...)\u001b[0m\n\u001b[1;32m    280\u001b[0m     run_name: Optional[\u001b[38;5;28mstr\u001b[39m] \u001b[38;5;241m=\u001b[39m \u001b[38;5;28;01mNone\u001b[39;00m,\n\u001b[1;32m    281\u001b[0m ) \u001b[38;5;241m-\u001b[39m\u001b[38;5;241m>\u001b[39m Run:\n\u001b[1;32m    282\u001b[0m \u001b[38;5;250m    \u001b[39m\u001b[38;5;124;03m\"\"\"\u001b[39;00m\n\u001b[1;32m    283\u001b[0m \u001b[38;5;124;03m    Create a :py:class:`mlflow.entities.Run` object that can be associated with\u001b[39;00m\n\u001b[1;32m    284\u001b[0m \u001b[38;5;124;03m    metrics, parameters, artifacts, etc.\u001b[39;00m\n\u001b[0;32m   (...)\u001b[0m\n\u001b[1;32m    324\u001b[0m \u001b[38;5;124;03m        status: RUNNING\u001b[39;00m\n\u001b[1;32m    325\u001b[0m \u001b[38;5;124;03m    \"\"\"\u001b[39;00m\n\u001b[0;32m--> 326\u001b[0m     \u001b[38;5;28;01mreturn\u001b[39;00m \u001b[38;5;28;43mself\u001b[39;49m\u001b[38;5;241;43m.\u001b[39;49m\u001b[43m_tracking_client\u001b[49m\u001b[38;5;241;43m.\u001b[39;49m\u001b[43mcreate_run\u001b[49m\u001b[43m(\u001b[49m\u001b[43mexperiment_id\u001b[49m\u001b[43m,\u001b[49m\u001b[43m \u001b[49m\u001b[43mstart_time\u001b[49m\u001b[43m,\u001b[49m\u001b[43m \u001b[49m\u001b[43mtags\u001b[49m\u001b[43m,\u001b[49m\u001b[43m \u001b[49m\u001b[43mrun_name\u001b[49m\u001b[43m)\u001b[49m\n",
      "File \u001b[0;32m/raid/AICOE/aviv/envs/lib/python3.8/site-packages/mlflow/tracking/_tracking_service/client.py:133\u001b[0m, in \u001b[0;36mTrackingServiceClient.create_run\u001b[0;34m(self, experiment_id, start_time, tags, run_name)\u001b[0m\n\u001b[1;32m    128\u001b[0m \u001b[38;5;66;03m# Extract user from tags\u001b[39;00m\n\u001b[1;32m    129\u001b[0m \u001b[38;5;66;03m# This logic is temporary; the user_id attribute of runs is deprecated and will be removed\u001b[39;00m\n\u001b[1;32m    130\u001b[0m \u001b[38;5;66;03m# in a later release.\u001b[39;00m\n\u001b[1;32m    131\u001b[0m user_id \u001b[38;5;241m=\u001b[39m tags\u001b[38;5;241m.\u001b[39mget(MLFLOW_USER, \u001b[38;5;124m\"\u001b[39m\u001b[38;5;124munknown\u001b[39m\u001b[38;5;124m\"\u001b[39m)\n\u001b[0;32m--> 133\u001b[0m \u001b[38;5;28;01mreturn\u001b[39;00m \u001b[38;5;28;43mself\u001b[39;49m\u001b[38;5;241;43m.\u001b[39;49m\u001b[43mstore\u001b[49m\u001b[38;5;241;43m.\u001b[39;49m\u001b[43mcreate_run\u001b[49m\u001b[43m(\u001b[49m\n\u001b[1;32m    134\u001b[0m \u001b[43m    \u001b[49m\u001b[43mexperiment_id\u001b[49m\u001b[38;5;241;43m=\u001b[39;49m\u001b[43mexperiment_id\u001b[49m\u001b[43m,\u001b[49m\n\u001b[1;32m    135\u001b[0m \u001b[43m    \u001b[49m\u001b[43muser_id\u001b[49m\u001b[38;5;241;43m=\u001b[39;49m\u001b[43muser_id\u001b[49m\u001b[43m,\u001b[49m\n\u001b[1;32m    136\u001b[0m \u001b[43m    \u001b[49m\u001b[43mstart_time\u001b[49m\u001b[38;5;241;43m=\u001b[39;49m\u001b[43mstart_time\u001b[49m\u001b[43m \u001b[49m\u001b[38;5;129;43;01mor\u001b[39;49;00m\u001b[43m \u001b[49m\u001b[43mget_current_time_millis\u001b[49m\u001b[43m(\u001b[49m\u001b[43m)\u001b[49m\u001b[43m,\u001b[49m\n\u001b[1;32m    137\u001b[0m \u001b[43m    \u001b[49m\u001b[43mtags\u001b[49m\u001b[38;5;241;43m=\u001b[39;49m\u001b[43m[\u001b[49m\u001b[43mRunTag\u001b[49m\u001b[43m(\u001b[49m\u001b[43mkey\u001b[49m\u001b[43m,\u001b[49m\u001b[43m \u001b[49m\u001b[43mvalue\u001b[49m\u001b[43m)\u001b[49m\u001b[43m \u001b[49m\u001b[38;5;28;43;01mfor\u001b[39;49;00m\u001b[43m \u001b[49m\u001b[43m(\u001b[49m\u001b[43mkey\u001b[49m\u001b[43m,\u001b[49m\u001b[43m \u001b[49m\u001b[43mvalue\u001b[49m\u001b[43m)\u001b[49m\u001b[43m \u001b[49m\u001b[38;5;129;43;01min\u001b[39;49;00m\u001b[43m \u001b[49m\u001b[43mtags\u001b[49m\u001b[38;5;241;43m.\u001b[39;49m\u001b[43mitems\u001b[49m\u001b[43m(\u001b[49m\u001b[43m)\u001b[49m\u001b[43m]\u001b[49m\u001b[43m,\u001b[49m\n\u001b[1;32m    138\u001b[0m \u001b[43m    \u001b[49m\u001b[43mrun_name\u001b[49m\u001b[38;5;241;43m=\u001b[39;49m\u001b[43mrun_name\u001b[49m\u001b[43m,\u001b[49m\n\u001b[1;32m    139\u001b[0m \u001b[43m\u001b[49m\u001b[43m)\u001b[49m\n",
      "File \u001b[0;32m/raid/AICOE/aviv/envs/lib/python3.8/site-packages/mlflow/store/tracking/rest_store.py:178\u001b[0m, in \u001b[0;36mRestStore.create_run\u001b[0;34m(self, experiment_id, user_id, start_time, tags, run_name)\u001b[0m\n\u001b[1;32m    168\u001b[0m tag_protos \u001b[38;5;241m=\u001b[39m [tag\u001b[38;5;241m.\u001b[39mto_proto() \u001b[38;5;28;01mfor\u001b[39;00m tag \u001b[38;5;129;01min\u001b[39;00m tags]\n\u001b[1;32m    169\u001b[0m req_body \u001b[38;5;241m=\u001b[39m message_to_json(\n\u001b[1;32m    170\u001b[0m     CreateRun(\n\u001b[1;32m    171\u001b[0m         experiment_id\u001b[38;5;241m=\u001b[39m\u001b[38;5;28mstr\u001b[39m(experiment_id),\n\u001b[0;32m   (...)\u001b[0m\n\u001b[1;32m    176\u001b[0m     )\n\u001b[1;32m    177\u001b[0m )\n\u001b[0;32m--> 178\u001b[0m response_proto \u001b[38;5;241m=\u001b[39m \u001b[38;5;28;43mself\u001b[39;49m\u001b[38;5;241;43m.\u001b[39;49m\u001b[43m_call_endpoint\u001b[49m\u001b[43m(\u001b[49m\u001b[43mCreateRun\u001b[49m\u001b[43m,\u001b[49m\u001b[43m \u001b[49m\u001b[43mreq_body\u001b[49m\u001b[43m)\u001b[49m\n\u001b[1;32m    179\u001b[0m run \u001b[38;5;241m=\u001b[39m Run\u001b[38;5;241m.\u001b[39mfrom_proto(response_proto\u001b[38;5;241m.\u001b[39mrun)\n\u001b[1;32m    180\u001b[0m \u001b[38;5;28;01mreturn\u001b[39;00m run\n",
      "File \u001b[0;32m/raid/AICOE/aviv/envs/lib/python3.8/site-packages/mlflow/store/tracking/rest_store.py:59\u001b[0m, in \u001b[0;36mRestStore._call_endpoint\u001b[0;34m(self, api, json_body)\u001b[0m\n\u001b[1;32m     57\u001b[0m endpoint, method \u001b[38;5;241m=\u001b[39m _METHOD_TO_INFO[api]\n\u001b[1;32m     58\u001b[0m response_proto \u001b[38;5;241m=\u001b[39m api\u001b[38;5;241m.\u001b[39mResponse()\n\u001b[0;32m---> 59\u001b[0m \u001b[38;5;28;01mreturn\u001b[39;00m \u001b[43mcall_endpoint\u001b[49m\u001b[43m(\u001b[49m\u001b[38;5;28;43mself\u001b[39;49m\u001b[38;5;241;43m.\u001b[39;49m\u001b[43mget_host_creds\u001b[49m\u001b[43m(\u001b[49m\u001b[43m)\u001b[49m\u001b[43m,\u001b[49m\u001b[43m \u001b[49m\u001b[43mendpoint\u001b[49m\u001b[43m,\u001b[49m\u001b[43m \u001b[49m\u001b[43mmethod\u001b[49m\u001b[43m,\u001b[49m\u001b[43m \u001b[49m\u001b[43mjson_body\u001b[49m\u001b[43m,\u001b[49m\u001b[43m \u001b[49m\u001b[43mresponse_proto\u001b[49m\u001b[43m)\u001b[49m\n",
      "File \u001b[0;32m/raid/AICOE/aviv/envs/lib/python3.8/site-packages/mlflow/utils/rest_utils.py:202\u001b[0m, in \u001b[0;36mcall_endpoint\u001b[0;34m(host_creds, endpoint, method, json_body, response_proto, extra_headers)\u001b[0m\n\u001b[1;32m    200\u001b[0m \u001b[38;5;28;01melse\u001b[39;00m:\n\u001b[1;32m    201\u001b[0m     call_kwargs[\u001b[38;5;124m\"\u001b[39m\u001b[38;5;124mjson\u001b[39m\u001b[38;5;124m\"\u001b[39m] \u001b[38;5;241m=\u001b[39m json_body\n\u001b[0;32m--> 202\u001b[0m     response \u001b[38;5;241m=\u001b[39m \u001b[43mhttp_request\u001b[49m\u001b[43m(\u001b[49m\u001b[38;5;241;43m*\u001b[39;49m\u001b[38;5;241;43m*\u001b[39;49m\u001b[43mcall_kwargs\u001b[49m\u001b[43m)\u001b[49m\n\u001b[1;32m    203\u001b[0m response \u001b[38;5;241m=\u001b[39m verify_rest_response(response, endpoint)\n\u001b[1;32m    204\u001b[0m js_dict \u001b[38;5;241m=\u001b[39m json\u001b[38;5;241m.\u001b[39mloads(response\u001b[38;5;241m.\u001b[39mtext)\n",
      "File \u001b[0;32m/raid/AICOE/aviv/envs/lib/python3.8/site-packages/mlflow/utils/rest_utils.py:113\u001b[0m, in \u001b[0;36mhttp_request\u001b[0;34m(host_creds, endpoint, method, max_retries, backoff_factor, extra_headers, retry_codes, timeout, **kwargs)\u001b[0m\n\u001b[1;32m    111\u001b[0m     \u001b[38;5;28;01mraise\u001b[39;00m InvalidUrlException(\u001b[38;5;124mf\u001b[39m\u001b[38;5;124m\"\u001b[39m\u001b[38;5;124mInvalid url: \u001b[39m\u001b[38;5;132;01m{\u001b[39;00murl\u001b[38;5;132;01m}\u001b[39;00m\u001b[38;5;124m\"\u001b[39m) \u001b[38;5;28;01mfrom\u001b[39;00m \u001b[38;5;21;01miu\u001b[39;00m\n\u001b[1;32m    112\u001b[0m \u001b[38;5;28;01mexcept\u001b[39;00m \u001b[38;5;167;01mException\u001b[39;00m \u001b[38;5;28;01mas\u001b[39;00m e:\n\u001b[0;32m--> 113\u001b[0m     \u001b[38;5;28;01mraise\u001b[39;00m MlflowException(\u001b[38;5;124mf\u001b[39m\u001b[38;5;124m\"\u001b[39m\u001b[38;5;124mAPI request to \u001b[39m\u001b[38;5;132;01m{\u001b[39;00murl\u001b[38;5;132;01m}\u001b[39;00m\u001b[38;5;124m failed with exception \u001b[39m\u001b[38;5;132;01m{\u001b[39;00me\u001b[38;5;132;01m}\u001b[39;00m\u001b[38;5;124m\"\u001b[39m)\n",
      "\u001b[0;31mMlflowException\u001b[0m: API request to https://dagshub.com/aviv.ples/sokoban-rl.mlflow/api/2.0/mlflow/runs/create failed with exception HTTPSConnectionPool(host='dagshub.com', port=443): Max retries exceeded with url: /aviv.ples/sokoban-rl.mlflow/api/2.0/mlflow/runs/create (Caused by ResponseError('too many 500 error responses'))"
     ]
    }
   ],
   "source": [
    "experiment_id = 5\n",
    "num_episodes = 10_000\n",
    "optimizer_classes = ['AdamW']\n",
    "lrs = [0.001]\n",
    "epsilons = [1.0]\n",
    "reward_manipulation_options = [True]\n",
    "batch_sizes = [128]\n",
    "epsilon_decay_factor = 0.98\n",
    "memory_size = 1_000_000\n",
    "seed_env = False\n",
    "\n",
    "run_experiments(sok_2, experiment_id, num_episodes, optimizer_classes, lrs, epsilons, reward_manipulation_options,\n",
    "                batch_sizes, epsilon_decay_factor, memory_size, seed_env)"
   ]
  },
  {
   "cell_type": "code",
   "execution_count": null,
   "metadata": {},
   "outputs": [],
   "source": []
  },
  {
   "cell_type": "markdown",
   "metadata": {
    "id": "I-gRY9mtZ-6J"
   },
   "source": [
    "## EX3 - PUSH & PULL - TWO BOXES"
   ]
  },
  {
   "cell_type": "code",
   "execution_count": null,
   "metadata": {
    "id": "mFbVwDqf9C62"
   },
   "outputs": [],
   "source": [
    "#=============== DO NOT DELETE ===============\n",
    "sok_3 = PushAndPullSokobanEnv(dim_room=(7, 7),num_boxes=2 ,max_steps=500)\n",
    "# ============================================"
   ]
  },
  {
   "cell_type": "code",
   "execution_count": null,
   "metadata": {
    "colab": {
     "base_uri": "https://localhost:8080/",
     "height": 337
    },
    "id": "eb1TWQqCaCf_",
    "outputId": "a1a1f79e-67a1-4e90-8a6b-6e0a7fa4df31"
   },
   "outputs": [
    {
     "name": "stdout",
     "output_type": "stream",
     "text": [
      "Observation space: Box(0.0, 255.0, (112, 112, 3), float32)\n",
      "Action space: Discrete(13)\n",
      "Player position:[5 1]\n",
      "Box mapping: {(1, 1): (4, 1), (3, 2): (4, 2)}\n"
     ]
    },
    {
     "data": {
      "image/png": "[encoded data removed]",
      "text/plain": [
       "<Figure size 432x288 with 1 Axes>"
      ]
     },
     "metadata": {
      "needs_background": "light"
     },
     "output_type": "display_data"
    }
   ],
   "source": [
    "screen = sok_3.render(mode='rgb_array')\n",
    "plt.imshow(sok_3.render('rgb_array'))\n",
    "print_env_det(sok_3)"
   ]
  },
  {
   "cell_type": "markdown",
   "metadata": {
    "id": "EIk_Xm1i0TzJ"
   },
   "source": [
    "### EX3 - Video test"
   ]
  },
  {
   "cell_type": "code",
   "execution_count": null,
   "metadata": {
    "colab": {
     "base_uri": "https://localhost:8080/",
     "height": 501
    },
    "id": "uXs6GziOuWD9",
    "outputId": "b949a68c-3a3f-4c6c-e749-bac768e38d64"
   },
   "outputs": [],
   "source": [
    "env = sok_3\n",
    "start_time = time.time()\n",
    "done = False\n",
    "iter = 0\n",
    "video_filename = 'imageio.mp4'\n",
    "with imageio.get_writer(video_filename, fps=10) as video:\n",
    "  while (iter < 10) or not done:\n",
    "    time_passed = int(time.time() - start_time)\n",
    "    if done or time_passed > 3:\n",
    "      break\n",
    "    iter +=1\n",
    "    action = env.action_space.sample()\n",
    "    observation, reward, done, info = env.step(action)\n",
    "    video.append_data(env.render(mode='rgb_array'))\n",
    "embed_mp4(video_filename)"
   ]
  }
 ],
 "metadata": {
  "accelerator": "GPU",
  "colab": {
   "collapsed_sections": [
    "9525rZ_3JE58",
    "NYIu-mGTKDUG"
   ],
   "gpuType": "T4",
   "provenance": []
  },
  "kernelspec": {
   "display_name": "env",
   "language": "python",
   "name": "env"
  },
  "language_info": {
   "codemirror_mode": {
    "name": "ipython",
    "version": 3
   },
   "file_extension": ".py",
   "mimetype": "text/x-python",
   "name": "python",
   "nbconvert_exporter": "python",
   "pygments_lexer": "ipython3",
   "version": "3.8.10"
  }
 },
 "nbformat": 4,
 "nbformat_minor": 4
}
